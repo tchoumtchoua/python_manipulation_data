{
 "cells": [
  {
   "cell_type": "markdown",
   "id": "08edf8fe",
   "metadata": {},
   "source": [
    "## Les modules "
   ]
  },
  {
   "cell_type": "code",
   "execution_count": 4,
   "id": "eb7b68b7",
   "metadata": {},
   "outputs": [
    {
     "name": "stdout",
     "output_type": "stream",
     "text": [
      "3.141592653589793\n"
     ]
    }
   ],
   "source": [
    "# import my_module(nom du module ) permet d'importer le module\n",
    "import math\n",
    "# my_module.function() me permet d'utiliser le module\n",
    "math.sqrt(25)\n",
    "math.ceil(22.4)\n",
    "#print(my_module.value_name) permet d'afficher la valeur d'un module\n",
    "print(math.pi)"
   ]
  },
  {
   "cell_type": "markdown",
   "id": "bf9fe3ba",
   "metadata": {},
   "source": [
    "## Le module CSV"
   ]
  },
  {
   "cell_type": "code",
   "execution_count": 8,
   "id": "d0702f81",
   "metadata": {},
   "outputs": [
    {
     "name": "stdout",
     "output_type": "stream",
     "text": [
      "[['2009', '1', 'Pittsburgh Steelers', 'Tennessee Titans'], ['2009', '1', 'Minnesota Vikings', 'Cleveland Browns'], ['2009', '1', 'New York Giants', 'Washington Redskins'], ['2009', '1', 'San Francisco 49ers', 'Arizona Cardinals'], ['2009', '1', 'Seattle Seahawks', 'St. Louis Rams'], ['2009', '1', 'Philadelphia Eagles', 'Carolina Panthers'], ['2009', '1', 'New York Jets', 'Houston Texans'], ['2009', '1', 'Atlanta Falcons', 'Miami Dolphins'], ['2009', '1', 'Baltimore Ravens', 'Kansas City Chiefs'], ['2009', '1', 'Indianapolis Colts', 'Jacksonville Jaguars']]\n"
     ]
    }
   ],
   "source": [
    "import csv\n",
    "f = open('nfl.csv')\n",
    "csvreader = csv.reader(f)\n",
    "nfl = list(csvreader)\n",
    "print(nfl[0:10])"
   ]
  },
  {
   "cell_type": "markdown",
   "id": "aee22acf",
   "metadata": {},
   "source": [
    "## Compter le nombres de fois que l'equipe a gagné "
   ]
  },
  {
   "cell_type": "markdown",
   "id": "e74baec4",
   "metadata": {},
   "source": [
    "### Training"
   ]
  },
  {
   "cell_type": "code",
   "execution_count": 22,
   "id": "b24a09b8",
   "metadata": {},
   "outputs": [
    {
     "data": {
      "text/plain": [
       "51"
      ]
     },
     "execution_count": 22,
     "metadata": {},
     "output_type": "execute_result"
    }
   ],
   "source": [
    "def nfl_wins(equipe):\n",
    "    equipe_wins =0\n",
    "    for rows in nfl:\n",
    "        if rows[2] == equipe:\n",
    "            equipe_wins +=1;\n",
    "    return (equipe_wins)\n",
    "sf= nfl_wins(\"San Francisco 49ers\")\n",
    "sf\n",
    "            "
   ]
  },
  {
   "cell_type": "markdown",
   "id": "1230b8db",
   "metadata": {},
   "source": [
    "## Donner les victoires d'une equipe en une année donnée"
   ]
  },
  {
   "cell_type": "code",
   "execution_count": 23,
   "id": "25f665e1",
   "metadata": {},
   "outputs": [
    {
     "data": {
      "text/plain": [
       "12"
      ]
     },
     "execution_count": 23,
     "metadata": {},
     "output_type": "execute_result"
    }
   ],
   "source": [
    "def nfl_wins(equipe,year):\n",
    "    equipe_wins =0\n",
    "    for rows in nfl:\n",
    "        if rows[2] == equipe and rows[0]==year:\n",
    "            equipe_wins +=1;\n",
    "    return (equipe_wins)\n",
    "sf= nfl_wins(\"San Francisco 49ers\",'2012')\n",
    "sf"
   ]
  },
  {
   "cell_type": "code",
   "execution_count": null,
   "id": "6123a34a",
   "metadata": {},
   "outputs": [],
   "source": []
  }
 ],
 "metadata": {
  "kernelspec": {
   "display_name": "Python 3 (ipykernel)",
   "language": "python",
   "name": "python3"
  },
  "language_info": {
   "codemirror_mode": {
    "name": "ipython",
    "version": 3
   },
   "file_extension": ".py",
   "mimetype": "text/x-python",
   "name": "python",
   "nbconvert_exporter": "python",
   "pygments_lexer": "ipython3",
   "version": "3.9.13"
  }
 },
 "nbformat": 4,
 "nbformat_minor": 5
}
