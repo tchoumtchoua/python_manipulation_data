{
 "cells": [
  {
   "cell_type": "markdown",
   "id": "4a1b380c",
   "metadata": {},
   "source": [
    "## Objets et classes"
   ]
  },
  {
   "cell_type": "code",
   "execution_count": 35,
   "id": "02d5d030",
   "metadata": {},
   "outputs": [],
   "source": [
    "class Equipe():\n",
    "    def __init__(self,name):\n",
    "        self.name = name\n",
    "        "
   ]
  },
  {
   "cell_type": "code",
   "execution_count": 36,
   "id": "adfd378a",
   "metadata": {},
   "outputs": [],
   "source": [
    "man = Equipe(\"Liverpool\")"
   ]
  },
  {
   "cell_type": "code",
   "execution_count": 37,
   "id": "b7ac290e",
   "metadata": {},
   "outputs": [
    {
     "name": "stdout",
     "output_type": "stream",
     "text": [
      "Liverpool\n"
     ]
    }
   ],
   "source": [
    "print(man.name)"
   ]
  },
  {
   "cell_type": "markdown",
   "id": "c49968e4",
   "metadata": {},
   "source": [
    "## Les methodes d'instances"
   ]
  },
  {
   "cell_type": "code",
   "execution_count": 38,
   "id": "f406cc40",
   "metadata": {},
   "outputs": [],
   "source": [
    "# nous avons la methode __init__ ecrit comme ci dessus et nous pouvons determiner des methodes que nous souhaitons"
   ]
  },
  {
   "cell_type": "code",
   "execution_count": 66,
   "id": "e78dc274",
   "metadata": {},
   "outputs": [],
   "source": [
    "class Equipe():\n",
    "    def __init__(self,name):\n",
    "        self.name=name\n",
    "        \n",
    "    def print_name(self):\n",
    "        print(self.name)\n",
    "        \n",
    "        "
   ]
  },
  {
   "cell_type": "code",
   "execution_count": 67,
   "id": "c5c4b2dd",
   "metadata": {},
   "outputs": [],
   "source": [
    "e = Equipe(\"Liverpool\")\n"
   ]
  },
  {
   "cell_type": "code",
   "execution_count": 68,
   "id": "b34f3e46",
   "metadata": {},
   "outputs": [
    {
     "name": "stdout",
     "output_type": "stream",
     "text": [
      "Liverpool\n"
     ]
    }
   ],
   "source": [
    "e.print_name()"
   ]
  },
  {
   "cell_type": "code",
   "execution_count": 79,
   "id": "301f5df5",
   "metadata": {},
   "outputs": [],
   "source": [
    "import csv\n",
    "f=open('nfl.csv','r')\n",
    "nfl = list(csv.reader(f))"
   ]
  },
  {
   "cell_type": "code",
   "execution_count": 81,
   "id": "83be4338",
   "metadata": {},
   "outputs": [],
   "source": [
    "\n",
    "    \n",
    "      class Equipe():\n",
    "    def __init__(self,name):\n",
    "        self.name=name\n",
    "        \n",
    "    def print_name(self):\n",
    "        print(self.name)\n",
    "    def count_total_wins(self):\n",
    "        count =0\n",
    "        for row in nfl:\n",
    "            if row[2]==self.name:\n",
    "                count +=1\n",
    "        return (count)   "
   ]
  },
  {
   "cell_type": "code",
   "execution_count": 82,
   "id": "62d7408c",
   "metadata": {},
   "outputs": [],
   "source": [
    "broncos = Equipe(\"Denver Broncos\")\n",
    "broncos_wins = broncos.count_total_wins()\n"
   ]
  },
  {
   "cell_type": "code",
   "execution_count": 83,
   "id": "4eb12b83",
   "metadata": {},
   "outputs": [
    {
     "name": "stdout",
     "output_type": "stream",
     "text": [
      "46\n"
     ]
    }
   ],
   "source": [
    "print(broncos_wins)\n"
   ]
  },
  {
   "cell_type": "markdown",
   "id": "412a2238",
   "metadata": {},
   "source": [
    "## Amelioration de la methode __init__ de la classe Equipe"
   ]
  },
  {
   "cell_type": "code",
   "execution_count": 91,
   "id": "eb110e92",
   "metadata": {},
   "outputs": [],
   "source": [
    "import csv\n",
    "class Equipe():\n",
    "    def __init__(self,name):\n",
    "        \n",
    "        f=open('nfl.csv','r')\n",
    "        \n",
    "        nfl = list(csv.reader(f))\n",
    "        self.name=name\n",
    "        \n",
    "    def print_name(self):\n",
    "        print(self.name)\n",
    "    def count_total_wins(self):\n",
    "        count =0\n",
    "        for row in nfl:\n",
    "            if row[2]==self.name:\n",
    "                count +=1\n",
    "        return (count) "
   ]
  },
  {
   "cell_type": "code",
   "execution_count": 92,
   "id": "0c33d830",
   "metadata": {},
   "outputs": [
    {
     "name": "stdout",
     "output_type": "stream",
     "text": [
      "51\n"
     ]
    }
   ],
   "source": [
    "sf = Equipe(\"San Francisco 49ers\")\n",
    "sf_wins = sf.count_total_wins()\n",
    "print(sf_wins)"
   ]
  },
  {
   "cell_type": "markdown",
   "id": "f6b13201",
   "metadata": {},
   "source": [
    "## Nombres de victoires pour une equipe dans une année donnée"
   ]
  },
  {
   "cell_type": "code",
   "execution_count": 93,
   "id": "5152f40e",
   "metadata": {},
   "outputs": [],
   "source": [
    "import csv\n",
    "class Equipe():\n",
    "    def __init__(self,name):\n",
    "        \n",
    "        f=open('nfl.csv','r')\n",
    "        \n",
    "        nfl = list(csv.reader(f))\n",
    "        self.name=name\n",
    "        \n",
    "    def print_name(self):\n",
    "        print(self.name)\n",
    "    def count_total_wins(self,year):\n",
    "        count =0\n",
    "        for row in nfl:\n",
    "            if row[2]==self.name and row[0]==year:\n",
    "                count +=1\n",
    "        return (count) "
   ]
  },
  {
   "cell_type": "code",
   "execution_count": 94,
   "id": "f20843c1",
   "metadata": {},
   "outputs": [
    {
     "name": "stdout",
     "output_type": "stream",
     "text": [
      "12\n"
     ]
    }
   ],
   "source": [
    "sf = Equipe(\"San Francisco 49ers\")\n",
    "sf_wins = sf.count_total_wins('2013')\n",
    "print(sf_wins)"
   ]
  },
  {
   "cell_type": "code",
   "execution_count": null,
   "id": "979e15ea",
   "metadata": {},
   "outputs": [],
   "source": []
  }
 ],
 "metadata": {
  "kernelspec": {
   "display_name": "Python 3 (ipykernel)",
   "language": "python",
   "name": "python3"
  },
  "language_info": {
   "codemirror_mode": {
    "name": "ipython",
    "version": 3
   },
   "file_extension": ".py",
   "mimetype": "text/x-python",
   "name": "python",
   "nbconvert_exporter": "python",
   "pygments_lexer": "ipython3",
   "version": "3.9.13"
  }
 },
 "nbformat": 4,
 "nbformat_minor": 5
}
