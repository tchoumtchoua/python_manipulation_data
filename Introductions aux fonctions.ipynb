{
 "cells": [
  {
   "cell_type": "markdown",
   "id": "a0c11fb2",
   "metadata": {},
   "source": [
    "## Introduction aux fonctions"
   ]
  },
  {
   "cell_type": "markdown",
   "id": "8ec2d657",
   "metadata": {},
   "source": [
    "### Tokenization du vocabulaire"
   ]
  },
  {
   "cell_type": "code",
   "execution_count": 4,
   "id": "02004184",
   "metadata": {},
   "outputs": [
    {
     "data": {
      "text/plain": [
       "'à afin autant automatique automatisées autres aux bien calcul ces comme complexes compression connaissance considérée danalyse dans de den densembles des dincertitude discipline disjointes domaines données elle emploie en est et extraire formes généralement généraux haute informations informatique intéressantes la lanalytique lapprentissage larges le les lextraction limitée linformation lingénierie masse mathématiques méthodes modèles modélisation moins ne notamment objectif ou particulièrement pas performance plus plusieurs possible potentiellement premier principalement probabilistes produire programmation prophétique que qui reconnaissance sadaptent science signal soit sont source sources statistique stockage techniques technologie termes théorie théories tirées traitement tri utiles visualisation wikipédia'"
      ]
     },
     "execution_count": 4,
     "metadata": {},
     "output_type": "execute_result"
    }
   ],
   "source": [
    "vocabulary = open(\"dictionnaire.txt\",\"r\",encoding = 'utf-8').read()\n",
    "vocabulary"
   ]
  },
  {
   "cell_type": "code",
   "execution_count": 2,
   "id": "6af3491a",
   "metadata": {},
   "outputs": [
    {
     "name": "stdout",
     "output_type": "stream",
     "text": [
      "['à', 'afin', 'autant', 'automatique', 'automatisées', 'autres', 'aux', 'bien', 'calcul', 'ces']\n"
     ]
    }
   ],
   "source": [
    "tokenized_vocabulary = vocabulary.split(\" \")\n",
    "print(tokenized_vocabulary[0:10])"
   ]
  },
  {
   "cell_type": "markdown",
   "id": "d21b6e95",
   "metadata": {},
   "source": [
    "## Remplacement des caractères speciaux "
   ]
  },
  {
   "cell_type": "code",
   "execution_count": 8,
   "id": "6d91a878",
   "metadata": {},
   "outputs": [
    {
     "data": {
      "text/plain": [
       "\"En termes généraux, la scence des données est l'extraction de conaissance d'ensembles de données.   \\n \\nElle emploie des techniques et des théories tirées de plusieurs autres domaines plus larges des mathématiques, la statistique principalement, la téorie de l'information et la technologie de l'information, notamment le traitement de signal, des modèles probabilistes, l'apprentissage automatique, l'apprentissage statistiqe, la programmation informatique, l'ingénierie de données, la reconnaissance de formes et l'apprentissage, la visualisation, l'analytique prophétique, la modélisation d'incertitude, le stokage de données, la compression de données et le calcul à haute performance. \\n \\nLes méthodes qui s'adaptent aux données de masse sont particulièrement intéressantes dans la science des données, bien que la dicipline ne soit généralement pas considérée come limitée à ces données.   \\n \\nLe premier objectif est de produire des méthodes automatisées, autant que possible de tri et d'analyse de données de masse et de sources plus ou moins complexes ou disjointes de données, afin d'en extraire des informations utiles ou potentiellement utiles. Source Wikipédia\""
      ]
     },
     "execution_count": 8,
     "metadata": {},
     "output_type": "execute_result"
    }
   ],
   "source": [
    "f = open(\"texte.txt\",'r',encoding=\"utf-8\")\n",
    "text_string = f.read()\n",
    "text_string"
   ]
  },
  {
   "cell_type": "code",
   "execution_count": 16,
   "id": "18abb297",
   "metadata": {},
   "outputs": [
    {
     "name": "stdout",
     "output_type": "stream",
     "text": [
      "python est cool\n"
     ]
    }
   ],
   "source": [
    "# replace() qui prend deux arguments a savoir celle que l'on veut remplacé et celle avec laquelle on veut remplacé\n",
    "text = \"python,est,cool\"\n",
    "text = text.replace(\",\" ,\" \")\n",
    "print(text)"
   ]
  },
  {
   "cell_type": "markdown",
   "id": "734841b9",
   "metadata": {},
   "source": [
    "## Training"
   ]
  },
  {
   "cell_type": "code",
   "execution_count": 18,
   "id": "27733cd9",
   "metadata": {},
   "outputs": [
    {
     "name": "stdout",
     "output_type": "stream",
     "text": [
      "En termes généraux la scence des données est lextraction de conaissance densembles de données   \n",
      " \n",
      "Elle emploie des techniques et des théories tirées de plusieurs autres domaines plus larges des mathématiques la statistique principalement la téorie de linformation et la technologie de linformation notamment le traitement de signal des modèles probabilistes lapprentissage automatique lapprentissage statistiqe la programmation informatique lingénierie de données la reconnaissance de formes et lapprentissage la visualisation lanalytique prophétique la modélisation dincertitude le stokage de données la compression de données et le calcul à haute performance \n",
      " \n",
      "Les méthodes qui sadaptent aux données de masse sont particulièrement intéressantes dans la science des données bien que la dicipline ne soit généralement pas considérée come limitée à ces données   \n",
      " \n",
      "Le premier objectif est de produire des méthodes automatisées autant que possible de tri et danalyse de données de masse et de sources plus ou moins complexes ou disjointes de données afin den extraire des informations utiles ou potentiellement utiles Source Wikipédia\n"
     ]
    }
   ],
   "source": [
    "text_string_replace = text_string.replace(\",\", \"\")\n",
    "text_string_replace = text_string_replace.replace(\"'\",\"\")\n",
    "text_string_replace = text_string_replace.replace(\".\",\"\")\n",
    "print(text_string_replace)"
   ]
  },
  {
   "cell_type": "code",
   "execution_count": 20,
   "id": "6517389a",
   "metadata": {},
   "outputs": [
    {
     "name": "stdout",
     "output_type": "stream",
     "text": [
      "En termes généraux la scence des données est lextraction de conaissance densembles de données    Elle emploie des techniques et des théories tirées de plusieurs autres domaines plus larges des mathématiques la statistique principalement la téorie de linformation et la technologie de linformation notamment le traitement de signal des modèles probabilistes lapprentissage automatique lapprentissage statistiqe la programmation informatique lingénierie de données la reconnaissance de formes et lapprentissage la visualisation lanalytique prophétique la modélisation dincertitude le stokage de données la compression de données et le calcul à haute performance  Les méthodes qui sadaptent aux données de masse sont particulièrement intéressantes dans la science des données bien que la dicipline ne soit généralement pas considérée come limitée à ces données    Le premier objectif est de produire des méthodes automatisées autant que possible de tri et danalyse de données de masse et de sources plus ou moins complexes ou disjointes de données afin den extraire des informations utiles ou potentiellement utiles Source Wikipédia\n"
     ]
    }
   ],
   "source": [
    "text_string_replace = text_string_replace.replace(\"\\n\",\"\")\n",
    "print(text_string_replace)"
   ]
  },
  {
   "cell_type": "markdown",
   "id": "52fd20b4",
   "metadata": {},
   "source": [
    "## Les Fonctions"
   ]
  },
  {
   "cell_type": "code",
   "execution_count": 21,
   "id": "66264931",
   "metadata": {},
   "outputs": [
    {
     "data": {
      "text/plain": [
       "'python est magique'"
      ]
     },
     "execution_count": 21,
     "metadata": {},
     "output_type": "execute_result"
    }
   ],
   "source": [
    "def clean_text(string_value):\n",
    "    cleaned_value = string_value.replace(\",\",\" \")\n",
    "    return(cleaned_value)\n",
    "test= \"python,est,magique\"\n",
    "test= clean_text(test)\n",
    "test"
   ]
  },
  {
   "cell_type": "markdown",
   "id": "3f6c6f4d",
   "metadata": {},
   "source": [
    "### Training"
   ]
  },
  {
   "cell_type": "code",
   "execution_count": 26,
   "id": "59bf81f0",
   "metadata": {},
   "outputs": [
    {
     "data": {
      "text/plain": [
       "'En termes généraux la scence des données est lextraction de conaissance densembles de données    Elle emploie des techniques et des théories tirées de plusieurs autres domaines plus larges des mathématiques la statistique principalement la téorie de linformation et la technologie de linformation notamment le traitement de signal des modèles probabilistes lapprentissage automatique lapprentissage statistiqe la programmation informatique lingénierie de données la reconnaissance de formes et lapprentissage la visualisation lanalytique prophétique la modélisation dincertitude le stokage de données la compression de données et le calcul à haute performance  Les méthodes qui sadaptent aux données de masse sont particulièrement intéressantes dans la science des données bien que la dicipline ne soit généralement pas considérée come limitée à ces données    Le premier objectif est de produire des méthodes automatisées autant que possible de tri et danalyse de données de masse et de sources plus ou moins complexes ou disjointes de données afin den extraire des informations utiles ou potentiellement utiles Source Wikipédia'"
      ]
     },
     "execution_count": 26,
     "metadata": {},
     "output_type": "execute_result"
    }
   ],
   "source": [
    "def clean_text(string_value):\n",
    "    cleaned_value =string_value.replace(\",\",\"\")\n",
    "    cleaned_value = cleaned_value.replace(\"'\",\"\")\n",
    "    cleaned_value = cleaned_value.replace(\".\",\"\")\n",
    "    cleaned_value = cleaned_value.replace(\"\\n\",\"\")\n",
    "    return (cleaned_value)\n",
    "cleaned_text = clean_text(text_string)\n",
    "cleaned_text\n",
    "    "
   ]
  },
  {
   "cell_type": "markdown",
   "id": "8eee2b5d",
   "metadata": {},
   "source": [
    "## Changer les majuscules en minuscules "
   ]
  },
  {
   "cell_type": "code",
   "execution_count": 27,
   "id": "30d92e57",
   "metadata": {},
   "outputs": [
    {
     "data": {
      "text/plain": [
       "'cr7 est le meilleur'"
      ]
     },
     "execution_count": 27,
     "metadata": {},
     "output_type": "execute_result"
    }
   ],
   "source": [
    "# lower() permet de changer les majuscules en minuscules contenu dans une chaine de caractères\n",
    "test = \"CR7 EST LE MEILLEUR\"\n",
    "test_lower = test.lower()\n",
    "test_lower"
   ]
  },
  {
   "cell_type": "code",
   "execution_count": 28,
   "id": "cb42eb25",
   "metadata": {},
   "outputs": [
    {
     "data": {
      "text/plain": [
       "'en termes généraux la scence des données est lextraction de conaissance densembles de données    elle emploie des techniques et des théories tirées de plusieurs autres domaines plus larges des mathématiques la statistique principalement la téorie de linformation et la technologie de linformation notamment le traitement de signal des modèles probabilistes lapprentissage automatique lapprentissage statistiqe la programmation informatique lingénierie de données la reconnaissance de formes et lapprentissage la visualisation lanalytique prophétique la modélisation dincertitude le stokage de données la compression de données et le calcul à haute performance  les méthodes qui sadaptent aux données de masse sont particulièrement intéressantes dans la science des données bien que la dicipline ne soit généralement pas considérée come limitée à ces données    le premier objectif est de produire des méthodes automatisées autant que possible de tri et danalyse de données de masse et de sources plus ou moins complexes ou disjointes de données afin den extraire des informations utiles ou potentiellement utiles source wikipédia'"
      ]
     },
     "execution_count": 28,
     "metadata": {},
     "output_type": "execute_result"
    }
   ],
   "source": [
    "def clean_text(string_value):\n",
    "    cleaned_value =string_value.replace(\",\",\"\")\n",
    "    cleaned_value = cleaned_value.replace(\"'\",\"\")\n",
    "    cleaned_value = cleaned_value.replace(\".\",\"\")\n",
    "    cleaned_value = cleaned_value.replace(\"\\n\",\"\")\n",
    "    cleaned_value= cleaned_value.lower()\n",
    "    return (cleaned_value)\n",
    "cleaned_text = clean_text(text_string)\n",
    "cleaned_text"
   ]
  },
  {
   "cell_type": "markdown",
   "id": "1c9aa867",
   "metadata": {},
   "source": [
    "## Arguments multiples"
   ]
  },
  {
   "cell_type": "markdown",
   "id": "e3575620",
   "metadata": {},
   "source": [
    "### Training"
   ]
  },
  {
   "cell_type": "code",
   "execution_count": 34,
   "id": "4c8af4b8",
   "metadata": {},
   "outputs": [
    {
     "data": {
      "text/plain": [
       "'en termes généraux la scence des données est lextraction de conaissance densembles de données    elle emploie des techniques et des théories tirées de plusieurs autres domaines plus larges des mathématiques la statistique principalement la téorie de linformation et la technologie de linformation notamment le traitement de signal des modèles probabilistes lapprentissage automatique lapprentissage statistiqe la programmation informatique lingénierie de données la reconnaissance de formes et lapprentissage la visualisation lanalytique prophétique la modélisation dincertitude le stokage de données la compression de données et le calcul à haute performance  les méthodes qui sadaptent aux données de masse sont particulièrement intéressantes dans la science des données bien que la dicipline ne soit généralement pas considérée come limitée à ces données    le premier objectif est de produire des méthodes automatisées autant que possible de tri et danalyse de données de masse et de sources plus ou moins complexes ou disjointes de données afin den extraire des informations utiles ou potentiellement utiles source wikipédia'"
      ]
     },
     "execution_count": 34,
     "metadata": {},
     "output_type": "execute_result"
    }
   ],
   "source": [
    "def clean_text(text_string,special_character,remplacement_string):\n",
    "    cleaned = text_string\n",
    "    for string in special_character:\n",
    "        cleaned = cleaned.replace(string,remplacement_string)\n",
    "    cleaned = cleaned.lower()\n",
    "    return (cleaned)\n",
    "\n",
    "\n",
    "special_caracter=[',','.',\"'\",'\\n']\n",
    "remplacement =\"\"\n",
    "cleaned_text = clean_text(text_string,special_caracter,remplacement)\n",
    "cleaned_text"
   ]
  },
  {
   "cell_type": "markdown",
   "id": "76e96c50",
   "metadata": {},
   "source": [
    "## Tokenization du fichier texte"
   ]
  },
  {
   "cell_type": "markdown",
   "id": "c04162ba",
   "metadata": {},
   "source": [
    "###  Training"
   ]
  },
  {
   "cell_type": "code",
   "execution_count": 35,
   "id": "a4642e20",
   "metadata": {},
   "outputs": [
    {
     "name": "stdout",
     "output_type": "stream",
     "text": [
      "['en', 'termes', 'généraux', 'la', 'scence', 'des', 'données', 'est', 'lextraction', 'de']\n"
     ]
    }
   ],
   "source": [
    "def tokenize (text_string,special_character,remplacement_string):\n",
    "    cleaned_text= clean_text(text_string,special_character,remplacement_string)\n",
    "    text_tokens = cleaned_text.split(\" \")\n",
    "    return (text_tokens)\n",
    "special_caracter=[',','.',\"'\",'\\n']\n",
    "remplacement =\"\"\n",
    "tokenized_text = tokenize(text_string,special_caracter,remplacement)\n",
    "print(tokenized_text[0:10])"
   ]
  },
  {
   "cell_type": "markdown",
   "id": "6a434d1e",
   "metadata": {},
   "source": [
    "## Trouver les mots mals orthographiés"
   ]
  },
  {
   "cell_type": "markdown",
   "id": "abeb6c76",
   "metadata": {},
   "source": [
    "### Trainning"
   ]
  },
  {
   "cell_type": "code",
   "execution_count": 43,
   "id": "285cddce",
   "metadata": {},
   "outputs": [
    {
     "name": "stdout",
     "output_type": "stream",
     "text": [
      "['scence', 'conaissance', '', '', '', 'téorie', 'statistiqe', 'stokage', '', 'dicipline', 'come', '', '', '']\n"
     ]
    }
   ],
   "source": [
    "misspeled_list = []\n",
    "for string in tokenized_text:\n",
    "    if string not in tokenized_vocabulary:\n",
    "        misspeled_list.append(string)\n",
    "        \n",
    "   \n",
    "print(misspeled_list)            \n",
    "            "
   ]
  },
  {
   "cell_type": "code",
   "execution_count": null,
   "id": "46f346fd",
   "metadata": {},
   "outputs": [],
   "source": []
  }
 ],
 "metadata": {
  "kernelspec": {
   "display_name": "Python 3 (ipykernel)",
   "language": "python",
   "name": "python3"
  },
  "language_info": {
   "codemirror_mode": {
    "name": "ipython",
    "version": 3
   },
   "file_extension": ".py",
   "mimetype": "text/x-python",
   "name": "python",
   "nbconvert_exporter": "python",
   "pygments_lexer": "ipython3",
   "version": "3.9.13"
  }
 },
 "nbformat": 4,
 "nbformat_minor": 5
}
