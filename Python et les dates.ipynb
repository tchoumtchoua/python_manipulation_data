{
 "cells": [
  {
   "cell_type": "markdown",
   "id": "2e443c68",
   "metadata": {},
   "source": [
    "## Le modele Time"
   ]
  },
  {
   "cell_type": "code",
   "execution_count": 1,
   "id": "8f8931b3",
   "metadata": {},
   "outputs": [
    {
     "name": "stdout",
     "output_type": "stream",
     "text": [
      "1672251150.0774066\n"
     ]
    }
   ],
   "source": [
    "# time.time() donne le temps en seconde \n",
    "import time\n",
    "current_time = time.time()\n",
    "print (current_time)"
   ]
  },
  {
   "cell_type": "code",
   "execution_count": 3,
   "id": "8d2f68a6",
   "metadata": {},
   "outputs": [
    {
     "name": "stdout",
     "output_type": "stream",
     "text": [
      "time.struct_time(tm_year=2022, tm_mon=12, tm_mday=28, tm_hour=18, tm_min=12, tm_sec=30, tm_wday=2, tm_yday=362, tm_isdst=0)\n"
     ]
    }
   ],
   "source": [
    "# time.gmtime()permet de donner la structure du temps donner en seconde depuis 1970 jusqu'a aujourdh'hui\n",
    "curent_struct_time= time.gmtime(current_time)\n",
    "print(curent_struct_time)"
   ]
  },
  {
   "cell_type": "code",
   "execution_count": 8,
   "id": "c6750606",
   "metadata": {},
   "outputs": [
    {
     "name": "stdout",
     "output_type": "stream",
     "text": [
      "28\n"
     ]
    }
   ],
   "source": [
    "current_day= curent_struct_time.tm_mday\n",
    "print(current_day)"
   ]
  },
  {
   "cell_type": "markdown",
   "id": "7cc76687",
   "metadata": {},
   "source": [
    "## Le module datetime"
   ]
  },
  {
   "cell_type": "code",
   "execution_count": 9,
   "id": "5de34ebe",
   "metadata": {},
   "outputs": [
    {
     "name": "stdout",
     "output_type": "stream",
     "text": [
      "2022\n"
     ]
    }
   ],
   "source": [
    "# datetime.now()\n",
    "import datetime\n",
    "current_datetime = datetime.datetime.now()\n",
    "current_year= current_datetime.year\n",
    "current_month = current_datetime.month\n",
    "print(current_year)"
   ]
  },
  {
   "cell_type": "code",
   "execution_count": 10,
   "id": "978a7f42",
   "metadata": {},
   "outputs": [
    {
     "name": "stdout",
     "output_type": "stream",
     "text": [
      "12\n",
      "2022-12-28 19:25:00.898627\n"
     ]
    }
   ],
   "source": [
    "print(current_month)\n",
    "print(current_datetime)"
   ]
  },
  {
   "cell_type": "markdown",
   "id": "defe41bd",
   "metadata": {},
   "source": [
    "## La classe timedelta "
   ]
  },
  {
   "cell_type": "code",
   "execution_count": 11,
   "id": "514cec6d",
   "metadata": {},
   "outputs": [
    {
     "name": "stdout",
     "output_type": "stream",
     "text": [
      "2022-12-28 19:35:14.152450\n",
      "12 days, 0:00:00\n"
     ]
    }
   ],
   "source": [
    "# elle permet de faire des modifications sur les dates\n",
    "today = datetime.datetime.now()\n",
    "diff = datetime.timedelta(weeks=1 , days =5)\n",
    "print(today)\n",
    "print(diff)"
   ]
  },
  {
   "cell_type": "code",
   "execution_count": 12,
   "id": "99f07278",
   "metadata": {},
   "outputs": [
    {
     "name": "stdout",
     "output_type": "stream",
     "text": [
      "2022-12-29 19:35:14.152450\n"
     ]
    }
   ],
   "source": [
    "tommorow= datetime.timedelta(days=1)\n",
    "result = today + tommorow\n",
    "print(result)"
   ]
  },
  {
   "cell_type": "code",
   "execution_count": 14,
   "id": "d745bb87",
   "metadata": {},
   "outputs": [
    {
     "name": "stdout",
     "output_type": "stream",
     "text": [
      "Dec 28 2022\n"
     ]
    }
   ],
   "source": [
    "string_today = today.strftime(\"%b %d %Y\")\n",
    "print(string_today)"
   ]
  },
  {
   "cell_type": "code",
   "execution_count": 16,
   "id": "49c8a653",
   "metadata": {},
   "outputs": [
    {
     "name": "stdout",
     "output_type": "stream",
     "text": [
      "time.struct_time(tm_year=2022, tm_mon=12, tm_mday=28, tm_hour=0, tm_min=0, tm_sec=0, tm_wday=2, tm_yday=362, tm_isdst=-1)\n"
     ]
    }
   ],
   "source": [
    "today2 = time.strptime(string_today,\"%b %d %Y\")\n",
    "print(today2)"
   ]
  },
  {
   "cell_type": "markdown",
   "id": "ecebbc2a",
   "metadata": {},
   "source": [
    "## Les dates sur notres dataset"
   ]
  },
  {
   "cell_type": "code",
   "execution_count": 17,
   "id": "e111f71f",
   "metadata": {},
   "outputs": [
    {
     "name": "stdout",
     "output_type": "stream",
     "text": [
      "[['What\\'s your internet \"white whale\", something you\\'ve been searching for years to find with no luck?', '11510', datetime.datetime(2015, 6, 2, 4, 48, 34), '1', '26195'], [\"What's your favorite video that is 10 seconds or less?\", '8656', datetime.datetime(2015, 6, 13, 16, 25, 17), '4', '8479'], ['What are some interesting tests you can take to find out about yourself?', '8480', datetime.datetime(2015, 9, 28, 5, 7, 16), '1', '4055'], [\"PhD's of Reddit. What is a dumbed down summary of your thesis?\", '7927', datetime.datetime(2015, 8, 21, 22, 23, 43), '0', '13201'], ['What is cool to be good at, yet uncool to be REALLY good at?', '7711', datetime.datetime(2015, 8, 20, 17, 1, 50), '0', '20325'], ['[Serious] Redditors currently in a relationship, besides dinner and a movie, what are your favorite activities for date night?', '7598', datetime.datetime(2015, 8, 19, 16, 8), '2', '5389'], [\"Parents of Reddit, what's something that your kid has done that you pretended to be angry about but secretly impressed or amused you?\", '7553', datetime.datetime(2015, 8, 10, 1, 10, 9), '0', '11520'], ['What is a good subreddit to binge read the All Time Top Posts of?', '7498', datetime.datetime(2015, 8, 6, 2, 51, 28), '0', '2780'], ['What would the person who named Walkie Talkies have named other items?', '7501', datetime.datetime(2015, 11, 19, 4, 39, 11), '4', '6720'], [\"People who grew up in a different socioeconomic class as your significant others, what are the notable differences you've noticed and how does it affect your relationship (if at all)?\", '7419', datetime.datetime(2015, 8, 23, 21, 27, 49), '0', '8603']]\n"
     ]
    }
   ],
   "source": [
    "import csv\n",
    "f=open(\"askreddit_2015.csv\",encoding='utf-8')\n",
    "csvreader= csv.reader(f)\n",
    "posts= list(csvreader)\n",
    "posts= posts[1:]\n",
    "for post in posts:\n",
    "    cv = float(post[2])\n",
    "    dat= datetime.datetime.fromtimestamp(cv)\n",
    "    post[2]= dat\n",
    "print(posts[:10])    "
   ]
  },
  {
   "cell_type": "markdown",
   "id": "f2e3e7b1",
   "metadata": {},
   "source": [
    "## compter les pots de mai"
   ]
  },
  {
   "cell_type": "code",
   "execution_count": 19,
   "id": "08df029e",
   "metadata": {},
   "outputs": [
    {
     "name": "stdout",
     "output_type": "stream",
     "text": [
      "75\n"
     ]
    }
   ],
   "source": [
    "may_count=0\n",
    "for post in posts:\n",
    "    if post[2].month == 5 :\n",
    "        may_count +=1\n",
    "print(may_count)        "
   ]
  },
  {
   "cell_type": "markdown",
   "id": "ff49041e",
   "metadata": {},
   "source": [
    "## compter les posts de n'importe quel mois "
   ]
  },
  {
   "cell_type": "code",
   "execution_count": 26,
   "id": "b7c3ee14",
   "metadata": {},
   "outputs": [
    {
     "name": "stdout",
     "output_type": "stream",
     "text": [
      "52\n",
      "46\n",
      "59\n",
      "58\n",
      "75\n",
      "74\n",
      "77\n",
      "94\n",
      "69\n",
      "78\n",
      "96\n",
      "89\n"
     ]
    }
   ],
   "source": [
    "def post_month(month):\n",
    "    month_count =0\n",
    "    for post in posts:\n",
    "        if post[2].month == month:\n",
    "            month_count +=1\n",
    "    return month_count        \n",
    "months = [1,2,3,4,5,6,7,8,9,10,11,12]\n",
    "for m in months:\n",
    "    print(post_month(m))\n",
    "    "
   ]
  }
 ],
 "metadata": {
  "kernelspec": {
   "display_name": "Python 3 (ipykernel)",
   "language": "python",
   "name": "python3"
  },
  "language_info": {
   "codemirror_mode": {
    "name": "ipython",
    "version": 3
   },
   "file_extension": ".py",
   "mimetype": "text/x-python",
   "name": "python",
   "nbconvert_exporter": "python",
   "pygments_lexer": "ipython3",
   "version": "3.9.13"
  }
 },
 "nbformat": 4,
 "nbformat_minor": 5
}
