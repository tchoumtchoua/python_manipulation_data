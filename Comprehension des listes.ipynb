{
 "cells": [
  {
   "cell_type": "markdown",
   "id": "c769e36c",
   "metadata": {},
   "source": [
    "## Fonction enumerate()"
   ]
  },
  {
   "cell_type": "code",
   "execution_count": 1,
   "id": "7853340a",
   "metadata": {},
   "outputs": [
    {
     "name": "stdout",
     "output_type": "stream",
     "text": [
      "prenom\n",
      "daniel\n",
      "age\n",
      "18\n",
      "prenom\n",
      "xharly\n",
      "age\n",
      "19\n",
      "prenom\n",
      "christ\n",
      "age\n",
      "17\n"
     ]
    }
   ],
   "source": [
    "etudiant = [\"daniel\",\"xharly\",\"christ\"]\n",
    "age = [18,19,17]\n",
    "for i,student in enumerate(etudiant):\n",
    "    print(\"prenom\")\n",
    "    print(student)\n",
    "    print(\"age\")\n",
    "    print(age[i])\n",
    "    "
   ]
  },
  {
   "cell_type": "code",
   "execution_count": 2,
   "id": "df92bea4",
   "metadata": {},
   "outputs": [
    {
     "name": "stdout",
     "output_type": "stream",
     "text": [
      "[['audi', 'noir', '308', 23000], ['peugeot', 'bleu', 'A4', 35000]]\n"
     ]
    }
   ],
   "source": [
    "cars = [[\"audi\",\"noir\",\"308\"],[\"peugeot\",\"bleu\",'A4']]\n",
    "price=[23000,35000]\n",
    "for i,car in enumerate(cars):\n",
    "    car.append(price[i])\n",
    "print(cars)    \n",
    "    "
   ]
  },
  {
   "cell_type": "markdown",
   "id": "e48cd0a4",
   "metadata": {},
   "source": [
    "## comprehension de liste"
   ]
  },
  {
   "cell_type": "code",
   "execution_count": 4,
   "id": "71755ec1",
   "metadata": {},
   "outputs": [
    {
     "name": "stdout",
     "output_type": "stream",
     "text": [
      "[20, 60, 160, 140]\n"
     ]
    }
   ],
   "source": [
    "prices = [10,30,80,70]\n",
    "prices_double=[price*2 for price in prices]\n",
    "print(prices_double)"
   ]
  },
  {
   "cell_type": "markdown",
   "id": "01fa1ce4",
   "metadata": {},
   "source": [
    "## Compter les prenoms feminins "
   ]
  },
  {
   "cell_type": "markdown",
   "id": "a515d503",
   "metadata": {},
   "source": [
    "###  training"
   ]
  },
  {
   "cell_type": "code",
   "execution_count": null,
   "id": "9c964e4f",
   "metadata": {},
   "outputs": [],
   "source": [
    "name_counts={}\n",
    "for row in legislators:\n",
    "    gender=row[3]\n",
    "    year=row[7]\n",
    "    if row[3]=='F' and row[7]>1950:\n",
    "        name =row[1]\n",
    "        if name in name_counts:\n",
    "            name_counts[name] +=1\n",
    "        else:\n",
    "            name_counts[name] = 1\n",
    "print(name_counts)\n",
    "    "
   ]
  },
  {
   "cell_type": "markdown",
   "id": "0b00fdea",
   "metadata": {},
   "source": [
    "## None"
   ]
  },
  {
   "cell_type": "markdown",
   "id": "60c829e2",
   "metadata": {},
   "source": [
    "### Training"
   ]
  },
  {
   "cell_type": "code",
   "execution_count": 11,
   "id": "ce9adab3",
   "metadata": {},
   "outputs": [
    {
     "name": "stdout",
     "output_type": "stream",
     "text": [
      "[False, False, True, False, True]\n"
     ]
    }
   ],
   "source": [
    "values=[None,1,45,None,75]\n",
    "check=[i is not None and i >30 for i in values]\n",
    "print(check)        \n",
    "        \n",
    "        "
   ]
  },
  {
   "cell_type": "markdown",
   "id": "1225ea09",
   "metadata": {},
   "source": [
    "## Items() "
   ]
  },
  {
   "cell_type": "code",
   "execution_count": 13,
   "id": "7b89130d",
   "metadata": {},
   "outputs": [
    {
     "name": "stdout",
     "output_type": "stream",
     "text": [
      "banane\n",
      "9\n",
      "mangue\n",
      "7\n",
      "tomate\n",
      "8\n"
     ]
    }
   ],
   "source": [
    "fruits={\"banane\":9,\"mangue\":7,\"tomate\":8}\n",
    "for i,fruit in fruits.items():\n",
    "    print(i)\n",
    "    print(fruit)\n",
    "    "
   ]
  },
  {
   "cell_type": "markdown",
   "id": "97f36512",
   "metadata": {},
   "source": [
    "## Trouver les prenoms les plus frequents"
   ]
  },
  {
   "cell_type": "code",
   "execution_count": null,
   "id": "cce2445f",
   "metadata": {},
   "outputs": [],
   "source": [
    "    import csv\n",
    "top_male_names=[]\n",
    "male_name_counts={}\n",
    "f=open('legislators.csv','r')\n",
    "legislators= list(csv.reader(f))\n",
    "for row in legislators:\n",
    "    genre =row[3]\n",
    "    year=row[2].split('-')[0]\n",
    "    if genre =='M' and year >1940:\n",
    "        name=row[1]\n",
    "        if name in male_name_counts:\n",
    "            male_name_counts[name] +=1\n",
    "        else:\n",
    "            male_name_counts[name] =1\n",
    "top_male_count =None\n",
    "for name,count in male_name_counts.items():\n",
    "    if top_male_count is None or top_male_count>count:\n",
    "        top_male_count = count\n",
    "    if count == top_male_count:\n",
    "        top_male_names.append(name)\n",
    "print(top_male_names)    "
   ]
  },
  {
   "cell_type": "code",
   "execution_count": null,
   "id": "a5e8f11c",
   "metadata": {},
   "outputs": [],
   "source": []
  }
 ],
 "metadata": {
  "kernelspec": {
   "display_name": "Python 3 (ipykernel)",
   "language": "python",
   "name": "python3"
  },
  "language_info": {
   "codemirror_mode": {
    "name": "ipython",
    "version": 3
   },
   "file_extension": ".py",
   "mimetype": "text/x-python",
   "name": "python",
   "nbconvert_exporter": "python",
   "pygments_lexer": "ipython3",
   "version": "3.9.13"
  }
 },
 "nbformat": 4,
 "nbformat_minor": 5
}
