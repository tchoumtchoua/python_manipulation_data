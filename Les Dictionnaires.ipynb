{
 "cells": [
  {
   "cell_type": "markdown",
   "id": "17712b01",
   "metadata": {},
   "source": [
    "## Les Dictionnaires"
   ]
  },
  {
   "cell_type": "markdown",
   "id": "591cf52d",
   "metadata": {},
   "source": [
    "### qu'est ce qu'un dictionnaire"
   ]
  },
  {
   "cell_type": "code",
   "execution_count": 2,
   "id": "add97661",
   "metadata": {},
   "outputs": [
    {
     "data": {
      "text/plain": [
       "{'Nina': 14, 'Thomas': 16, 'Sarah': 17, 'Matt': 15}"
      ]
     },
     "execution_count": 2,
     "metadata": {},
     "output_type": "execute_result"
    }
   ],
   "source": [
    "scores={\"Nina\":14,\"Thomas\":16,\"Sarah\":17,\"Matt\":15}\n",
    "scores"
   ]
  },
  {
   "cell_type": "code",
   "execution_count": 3,
   "id": "3886434e",
   "metadata": {},
   "outputs": [
    {
     "data": {
      "text/plain": [
       "{'Nina': 14, 'Thomas': 16, 'Sarah': 17, 'Matt': 15, 'Marie': 15}"
      ]
     },
     "execution_count": 3,
     "metadata": {},
     "output_type": "execute_result"
    }
   ],
   "source": [
    "scores[\"Marie\"]=15\n",
    "scores"
   ]
  },
  {
   "cell_type": "code",
   "execution_count": 4,
   "id": "b0f4dd0d",
   "metadata": {},
   "outputs": [
    {
     "data": {
      "text/plain": [
       "{'Nina': 16, 'Thomas': 16, 'Sarah': 17, 'Matt': 15, 'Marie': 15}"
      ]
     },
     "execution_count": 4,
     "metadata": {},
     "output_type": "execute_result"
    }
   ],
   "source": [
    "scores[\"Nina\"] = scores[\"Nina\"] +2\n",
    "scores"
   ]
  },
  {
   "cell_type": "code",
   "execution_count": 5,
   "id": "fb2862a9",
   "metadata": {},
   "outputs": [
    {
     "data": {
      "text/plain": [
       "{'Nina': 16, 'Thomas': 10, 'Sarah': 17, 'Matt': 15, 'Marie': 15}"
      ]
     },
     "execution_count": 5,
     "metadata": {},
     "output_type": "execute_result"
    }
   ],
   "source": [
    "scores[\"Thomas\"] = 10\n",
    "scores"
   ]
  },
  {
   "cell_type": "code",
   "execution_count": 7,
   "id": "ae52b42e",
   "metadata": {},
   "outputs": [
    {
     "name": "stdout",
     "output_type": "stream",
     "text": [
      "Matt est dans le dictionnaire\n"
     ]
    }
   ],
   "source": [
    "if 'Matt' in scores:\n",
    "    print(\"Matt est dans le dictionnaire\")\n",
    "    \n",
    "    \n",
    "    "
   ]
  },
  {
   "cell_type": "code",
   "execution_count": 13,
   "id": "2cf81c6b",
   "metadata": {},
   "outputs": [
    {
     "name": "stdout",
     "output_type": "stream",
     "text": [
      "False\n"
     ]
    }
   ],
   "source": [
    "Tom_found = 'Tom' in scores\n",
    "print(Tom_found)\n",
    "\n",
    "    "
   ]
  },
  {
   "cell_type": "markdown",
   "id": "1943daf3",
   "metadata": {},
   "source": [
    "###  La condition if / else"
   ]
  },
  {
   "cell_type": "code",
   "execution_count": 17,
   "id": "4c675c47",
   "metadata": {},
   "outputs": [
    {
     "name": "stdout",
     "output_type": "stream",
     "text": [
      "[60, 70]\n",
      "[30, 15, 40, 25]\n"
     ]
    }
   ],
   "source": [
    "temperatures = [60,30,15,70,40,25]\n",
    "high_temperatures = []\n",
    "low_temperatures = []\n",
    "\n",
    "for temperature in temperatures:\n",
    "    if temperature >40:\n",
    "        high_temperatures.append(temperature)\n",
    "    else:\n",
    "        low_temperatures.append(temperature)\n",
    "print(high_temperatures)\n",
    "print(low_temperatures)\n",
    "       "
   ]
  },
  {
   "cell_type": "markdown",
   "id": "c83a812d",
   "metadata": {},
   "source": [
    "## Trainning"
   ]
  },
  {
   "cell_type": "code",
   "execution_count": 19,
   "id": "6360de58",
   "metadata": {},
   "outputs": [
    {
     "name": "stdout",
     "output_type": "stream",
     "text": [
      "['Venus', 'Terre', 'Mars']\n",
      "['Mercure', 'Jupiter', 'Saturne', 'Neptune', 'Uranus']\n"
     ]
    }
   ],
   "source": [
    "planet_names = [\"Mercure\",\"Venus\",\"Terre\",\"Mars\",\"Jupiter\",\"Saturne\",\"Neptune\",\"Uranus\"]\n",
    "long_names = []\n",
    "short_names = []\n",
    "for name in planet_names:\n",
    "    if len(name)>5:\n",
    "        long_names.append(name)\n",
    "    else:\n",
    "        short_names.append(name)\n",
    "print(short_names)\n",
    "print(long_names)"
   ]
  },
  {
   "cell_type": "markdown",
   "id": "f9dd6623",
   "metadata": {},
   "source": [
    "## Compter les elements d'une liste et presenter les resultats dans un dictionnaire"
   ]
  },
  {
   "cell_type": "code",
   "execution_count": 22,
   "id": "a0256cc3",
   "metadata": {},
   "outputs": [
    {
     "name": "stdout",
     "output_type": "stream",
     "text": [
      "{'citron': 1, 'banane': 3, 'pomme': 1, 'mangue': 2}\n"
     ]
    }
   ],
   "source": [
    "fruits = [\"citron\", \"banane\",\"pomme\",\"banane\",\"mangue\",\"banane\",\"mangue\"]\n",
    "fruits_found = {}\n",
    "for fruit in fruits:\n",
    "    if fruit in fruits_found:\n",
    "        fruits_found[fruit] +=1\n",
    "    else:\n",
    "        fruits_found[fruit]=1\n",
    "print(fruits_found)        \n",
    "        "
   ]
  },
  {
   "cell_type": "markdown",
   "id": "a0fbba29",
   "metadata": {},
   "source": [
    "### Trainning"
   ]
  },
  {
   "cell_type": "code",
   "execution_count": 23,
   "id": "85d79128",
   "metadata": {},
   "outputs": [
    {
     "name": "stdout",
     "output_type": "stream",
     "text": [
      "['Soleil', 'Soleil', 'Soleil', 'Soleil', 'Soleil', 'Pluie', 'Soleil', 'Soleil', 'Nuage', 'Pluie', 'Soleil', 'Soleil', 'Soleil', 'Soleil', 'Soleil', 'Nuage', 'Soleil', 'Soleil', 'Soleil', 'Soleil', 'Soleil', 'Soleil', 'Pluie', 'Nuage-Pluie', 'Pluie', 'Nuage-Pluie', 'Pluie', 'Soleil', 'Soleil', 'Soleil', 'Soleil', 'Soleil', 'Pluie', 'Soleil', 'Nuage', 'Nuage', 'Soleil', 'Soleil', 'Pluie', 'Soleil', 'Soleil', 'Soleil', 'Soleil', 'Soleil', 'Nuage', 'Soleil', 'Soleil', 'Nuage', 'Soleil', 'Pluie', 'Soleil', 'Soleil', 'Soleil', 'Soleil', 'Soleil', 'Soleil', 'Soleil', 'Soleil', 'Soleil', 'Soleil', 'Soleil', 'Pluie', 'Nuage', 'Nuage', 'Soleil', 'Pluie', 'Pluie', 'Soleil', 'Soleil', 'Soleil', 'Nuage', 'Nuage', 'Nuage', 'Nuage', 'Nuage', 'Soleil', 'Soleil', 'Soleil', 'Soleil', 'Soleil', 'Nuage', 'Soleil', 'Soleil', 'Nuage', 'Soleil', 'Nuage', 'Nuage', 'Nuage', 'Nuage', 'Pluie', 'Soleil', 'Nuage', 'Nuage', 'Nuage', 'Soleil', 'Soleil', 'Soleil', 'Soleil', 'Nuage', 'Soleil', 'Soleil', 'Soleil', 'Soleil', 'Soleil', 'Pluie', 'Soleil', 'Soleil', 'Soleil', 'Soleil', 'Nuage', 'Nuage', 'Nuage', 'Soleil', 'Pluie', 'Soleil', 'Soleil', 'Soleil', 'Nuage', 'Nuage', 'Soleil', 'Soleil', 'Nuage', 'Soleil', 'Soleil', 'Pluie', 'Pluie', 'Pluie', 'Soleil', 'Orage', 'Nuage', 'Soleil', 'Nuage', 'Soleil', 'Nuage', 'Nuage', 'Soleil', 'Soleil', 'Soleil', 'Soleil', 'Nuage', 'Nuage', 'Soleil', 'Soleil', 'Soleil', 'Soleil', 'Soleil', 'Soleil', 'Soleil', 'Nuage', 'Nuage', 'Soleil', 'Soleil', 'Soleil', 'Soleil', 'Soleil', 'Soleil', 'Nuage', 'Nuage', 'Soleil', 'Soleil', 'Soleil', 'Soleil', 'Nuage', 'Nuage', 'Nuage', 'Soleil', 'Soleil', 'Nuage', 'Nuage', 'Nuage', 'Soleil', 'Soleil', 'Soleil', 'Soleil', 'Soleil', 'Nuage', 'Nuage', 'Nuage', 'Nuage', 'Nuage', 'Soleil', 'Nuage', 'Nuage', 'Nuage', 'Nuage', 'Soleil', 'Soleil', 'Soleil', 'Soleil', 'Nuage', 'Soleil', 'Nuage-Pluie', 'Nuage', 'Nuage', 'Soleil', 'Nuage', 'Soleil', 'Nuage', 'Nuage', 'Nuage', 'Soleil', 'Pluie', 'Nuage', 'Nuage', 'Nuage', 'Nuage', 'Nuage-Pluie', 'Soleil', 'Soleil', 'Nuage', 'Soleil', 'Soleil', 'Nuage', 'Nuage', 'Soleil', 'Soleil', 'Nuage', 'Nuage', 'Nuage', 'Soleil', 'Soleil', 'Soleil', 'Soleil', 'Nuage', 'Nuage', 'Nuage', 'Nuage', 'Nuage', 'Nuage', 'Nuage', 'Nuage', 'Nuage', 'Nuage', 'Soleil', 'Nuage', 'Nuage', 'Nuage', 'Nuage', 'Soleil', 'Nuage', 'Nuage', 'Nuage', 'Soleil', 'Soleil', 'Nuage', 'Soleil', 'Nuage', 'Nuage', 'Soleil', 'Soleil', 'Nuage', 'Nuage', 'Nuage', 'Soleil', 'Soleil', 'Nuage', 'Nuage', 'Soleil', 'Nuage', 'Nuage', 'Nuage', 'Nuage', 'Nuage', 'Soleil', 'Soleil', 'Soleil', 'Nuage', 'Soleil', 'Soleil', 'Soleil', 'Soleil', 'Soleil', 'Soleil', 'Nuage', 'Soleil', 'Nuage', 'Soleil', 'Soleil', 'Soleil', 'Soleil', 'Nuage', 'Pluie', 'Soleil', 'Soleil', 'Soleil', 'Soleil', 'Soleil', 'Soleil', 'Soleil', 'Soleil', 'Soleil', 'Nuage', 'Nuage', 'Nuage', 'Nuage', 'Soleil', 'Soleil', 'Nuage', 'Nuage', 'Nuage', 'Soleil', 'Soleil', 'Soleil', 'Soleil', 'Soleil', 'Soleil', 'Soleil', 'Soleil', 'Nuage', 'Soleil', 'Soleil', 'Nuage', 'Nuage', 'Soleil', 'Nuage', 'Nuage', 'Soleil', 'Soleil', 'Nuage', 'Soleil', 'Soleil', 'Nuage', 'Soleil', 'Pluie', 'Pluie', 'Pluie', 'Soleil', 'Soleil', 'Soleil', 'Soleil', 'Soleil', 'Soleil', 'Pluie', 'Soleil', 'Soleil', 'Soleil', 'Soleil', 'Soleil', 'Soleil', 'Soleil', 'Pluie', 'Soleil', 'Soleil', 'Soleil', 'Soleil', 'Nuage', 'Nuage', 'Soleil', 'Soleil', 'Soleil', 'Soleil', 'Soleil', 'Pluie', 'Soleil', 'Soleil', 'Soleil', 'Nuage', 'Soleil', 'Soleil', 'Soleil', 'Soleil', 'Soleil', 'Nuage', 'Nuage', 'Nuage']\n"
     ]
    }
   ],
   "source": [
    "weather_data =[]\n",
    "f=open('madrid_weather_2016.csv','r')\n",
    "data = f.read()\n",
    "rows= data.split('\\n')\n",
    "for row in rows:\n",
    "    split_row = row.split(',')\n",
    "    weather_data.append(split_row)  \n",
    "new_weather_data = weather_data[1:366]\n",
    "weather = []\n",
    "for row in new_weather_data:\n",
    "    weather.append(row[1])\n",
    "print(weather)    "
   ]
  },
  {
   "cell_type": "code",
   "execution_count": 24,
   "id": "339c7d45",
   "metadata": {},
   "outputs": [
    {
     "name": "stdout",
     "output_type": "stream",
     "text": [
      "{'Soleil': 210, 'Pluie': 25, 'Nuage': 125, 'Nuage-Pluie': 4, 'Orage': 1}\n"
     ]
    }
   ],
   "source": [
    "weather_counts = {}\n",
    "for row in weather:\n",
    "    if row in weather_counts:\n",
    "        weather_counts[row] +=1\n",
    "    else:\n",
    "        weather_counts[row] =1\n",
    "print(weather_counts)        "
   ]
  },
  {
   "cell_type": "code",
   "execution_count": null,
   "id": "c391a99b",
   "metadata": {},
   "outputs": [],
   "source": []
  }
 ],
 "metadata": {
  "kernelspec": {
   "display_name": "Python 3 (ipykernel)",
   "language": "python",
   "name": "python3"
  },
  "language_info": {
   "codemirror_mode": {
    "name": "ipython",
    "version": 3
   },
   "file_extension": ".py",
   "mimetype": "text/x-python",
   "name": "python",
   "nbconvert_exporter": "python",
   "pygments_lexer": "ipython3",
   "version": "3.9.13"
  }
 },
 "nbformat": 4,
 "nbformat_minor": 5
}
