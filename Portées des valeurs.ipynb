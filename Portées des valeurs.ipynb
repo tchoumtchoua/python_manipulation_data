{
 "cells": [
  {
   "cell_type": "markdown",
   "id": "01e384df",
   "metadata": {},
   "source": [
    "## Fonctions Built-in"
   ]
  },
  {
   "cell_type": "code",
   "execution_count": 1,
   "id": "7cb0a6d9",
   "metadata": {},
   "outputs": [
    {
     "data": {
      "text/plain": [
       "5"
      ]
     },
     "execution_count": 1,
     "metadata": {},
     "output_type": "execute_result"
    }
   ],
   "source": [
    "# ce sont les fonctions déja prédefinis telles que les fonctions len() , sum() , min(),max()\n",
    "max([1,3,5])\n"
   ]
  },
  {
   "cell_type": "markdown",
   "id": "8fa9ee49",
   "metadata": {},
   "source": [
    "## Les portées des variables"
   ]
  },
  {
   "cell_type": "code",
   "execution_count": 3,
   "id": "f6ca177e",
   "metadata": {},
   "outputs": [],
   "source": [
    "# on distingue deux types de variables a savoir celles global et local\n",
    "# lorsqu'une variable est definie a l'interieur d'une fonction elle est locale a cette fonction pourtant lorsqu'une variable est definie hors d'une fonctiion elle est dite global "
   ]
  },
  {
   "cell_type": "code",
   "execution_count": null,
   "id": "ff44e0de",
   "metadata": {},
   "outputs": [],
   "source": []
  }
 ],
 "metadata": {
  "kernelspec": {
   "display_name": "Python 3 (ipykernel)",
   "language": "python",
   "name": "python3"
  },
  "language_info": {
   "codemirror_mode": {
    "name": "ipython",
    "version": 3
   },
   "file_extension": ".py",
   "mimetype": "text/x-python",
   "name": "python",
   "nbconvert_exporter": "python",
   "pygments_lexer": "ipython3",
   "version": "3.9.13"
  }
 },
 "nbformat": 4,
 "nbformat_minor": 5
}
