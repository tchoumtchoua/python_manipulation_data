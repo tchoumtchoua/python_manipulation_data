{
 "cells": [
  {
   "cell_type": "markdown",
   "id": "12225970",
   "metadata": {},
   "source": [
    "# Challenge sur la section fichier et boucles"
   ]
  },
  {
   "cell_type": "markdown",
   "id": "cf08ed71",
   "metadata": {},
   "source": [
    "ouvrir un nouveau fichier sur jupyter notebook et créons une liste d'entiers contenant le nombre d'habitants de tout les départements francais  "
   ]
  },
  {
   "cell_type": "code",
   "execution_count": 10,
   "id": "68f110e3",
   "metadata": {},
   "outputs": [
    {
     "name": "stdout",
     "output_type": "stream",
     "text": [
      "[643309, 554040, 353262, 166298, 1098785, 332051, 287775, 158076, 316098, 375065, 289901, 1131812, 2035475, 708407, 152400, 366787, 656046, 318590, 249684, 154100, 545001, 617413, 124948, 384655, 428651, 549155, 514104, 1286908, 616076, 445083, 935393, 752382, 197988, 1556663, 406706, 254845, 175499, 1344579, 234078, 186698, 145213, 246022, 806447, 236577, 384708, 775941, 1617484, 1127333, 1060051, 232802, 619004, 1271938, 270826, 541487, 414090, 774262, 1382766, 688098, 344121, 180016, 343198, 80423, 829156, 518322, 584297, 390252, 317716, 746687, 197763, 764338, 1065894, 221048, 2640622, 838646, 297109, 2243739, 1497668, 661248, 688451, 474842, 1833002, 574229, 583961, 440777, 1400477, 1284107, 1582139, 583641, 396341, 258696, 147647, 1377511, 1221946, 1055745, 566592, 681469, 444347, 386978, 352433, 1449398]\n"
     ]
    }
   ],
   "source": [
    "ouvrir = open('departements_fr.csv','r')\n",
    "lire = ouvrir.read()\n",
    "rows = lire.split('\\n')\n",
    "nbr_habitants = []\n",
    "for row in rows:\n",
    "    value =row.split(',')\n",
    "    int_nbr_habitant = int(value[1])\n",
    "    nbr_habitants.append(int_nbr_habitant)\n",
    "print(nbr_habitants)   "
   ]
  },
  {
   "cell_type": "code",
   "execution_count": 4,
   "id": "44e701e7",
   "metadata": {},
   "outputs": [
    {
     "name": "stdout",
     "output_type": "stream",
     "text": [
      "<class 'int'>\n"
     ]
    }
   ],
   "source": [
    "print(type(nbr_habitants[0]))"
   ]
  },
  {
   "cell_type": "code",
   "execution_count": null,
   "id": "e8a6e829",
   "metadata": {},
   "outputs": [],
   "source": []
  }
 ],
 "metadata": {
  "kernelspec": {
   "display_name": "Python 3 (ipykernel)",
   "language": "python",
   "name": "python3"
  },
  "language_info": {
   "codemirror_mode": {
    "name": "ipython",
    "version": 3
   },
   "file_extension": ".py",
   "mimetype": "text/x-python",
   "name": "python",
   "nbconvert_exporter": "python",
   "pygments_lexer": "ipython3",
   "version": "3.9.13"
  }
 },
 "nbformat": 4,
 "nbformat_minor": 5
}
