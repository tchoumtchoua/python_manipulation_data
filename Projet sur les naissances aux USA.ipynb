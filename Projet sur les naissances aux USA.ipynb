{
 "cells": [
  {
   "cell_type": "markdown",
   "id": "3831bb19",
   "metadata": {},
   "source": [
    "# Projet : explorer les naissances aux USA depuis 2000"
   ]
  },
  {
   "cell_type": "markdown",
   "id": "73715156",
   "metadata": {},
   "source": [
    "## Introduction aux dataset"
   ]
  },
  {
   "cell_type": "code",
   "execution_count": 2,
   "id": "05f5a580",
   "metadata": {},
   "outputs": [
    {
     "name": "stdout",
     "output_type": "stream",
     "text": [
      "['year,month,date_of_month,day_of_week,births', '2000,1,1,6,9083', '2000,1,2,7,8006', '2000,1,3,1,11363', '2000,1,4,2,13032', '2000,1,5,3,12558', '2000,1,6,4,12466', '2000,1,7,5,12516', '2000,1,8,6,8934', '2000,1,9,7,7949']\n"
     ]
    }
   ],
   "source": [
    "us = open('US_births_2000-2014.csv','r').read()\n",
    "us_split = us.split(\"\\n\")\n",
    "print(us_split[0:10])"
   ]
  },
  {
   "cell_type": "markdown",
   "id": "18cccf14",
   "metadata": {},
   "source": [
    "## 2: convertir la data en liste de liste"
   ]
  },
  {
   "cell_type": "code",
   "execution_count": 16,
   "id": "ea423a57",
   "metadata": {},
   "outputs": [
    {
     "name": "stdout",
     "output_type": "stream",
     "text": [
      "[[2000, 1, 1, 6, 9083], [2000, 1, 2, 7, 8006], [2000, 1, 3, 1, 11363], [2000, 1, 4, 2, 13032], [2000, 1, 5, 3, 12558], [2000, 1, 6, 4, 12466], [2000, 1, 7, 5, 12516], [2000, 1, 8, 6, 8934], [2000, 1, 9, 7, 7949], [2000, 1, 10, 1, 11668]]\n"
     ]
    }
   ],
   "source": [
    "def read_csv(file):\n",
    "    u=open(file,'r').read()\n",
    "    us=u.split(\"\\n\")\n",
    "    us_int = us[1:]\n",
    "    final_us_list= []\n",
    "    for usa in us_int:\n",
    "        usa_split = usa.split(\",\")\n",
    "        us_list=[]\n",
    "        for row in usa_split:\n",
    "             us_list.append(int(row))\n",
    "        final_us_list.append(us_list)           \n",
    "    return(final_us_list)\n",
    "us_births_list = read_csv('US_births_2000-2014.csv')\n",
    "print(us_births_list[0:10])"
   ]
  },
  {
   "cell_type": "markdown",
   "id": "00be4a1e",
   "metadata": {},
   "source": [
    "## 3: calcul le nombre de naissances par mois"
   ]
  },
  {
   "cell_type": "code",
   "execution_count": 17,
   "id": "2fb1ea96",
   "metadata": {},
   "outputs": [
    {
     "name": "stdout",
     "output_type": "stream",
     "text": [
      "{1: 5072588, 2: 4725693, 3: 5172961, 4: 4960750, 5: 5195445, 6: 5163360, 7: 5450418, 8: 5540170, 9: 5399592, 10: 5302865, 11: 5008750, 12: 5194432}\n"
     ]
    }
   ],
   "source": [
    "def months_births(us):\n",
    "    us_months={}\n",
    "    \n",
    "    for rows in us :\n",
    "        month = rows[1]\n",
    "        birth = rows[4]\n",
    "        if month in us_months:\n",
    "            us_months[month] +=birth\n",
    "        else:\n",
    "            us_months[month] = birth\n",
    "    return (us_months)\n",
    "us_months_births= months_births(us_births_list)\n",
    "print(us_months_births)\n",
    "            \n",
    "            "
   ]
  },
  {
   "cell_type": "markdown",
   "id": "c424c9d9",
   "metadata": {},
   "source": [
    "## 4: Calcul du nombre de naissance par jour de la semaine "
   ]
  },
  {
   "cell_type": "code",
   "execution_count": 27,
   "id": "22fb49c5",
   "metadata": {},
   "outputs": [
    {
     "name": "stdout",
     "output_type": "stream",
     "text": [
      "{6: 6704495, 7: 5886889, 1: 9316001, 2: 10274874, 3: 10109130, 4: 10045436, 5: 9850199}\n"
     ]
    }
   ],
   "source": [
    "def day_births(us):\n",
    "    us_day_births={}\n",
    "    \n",
    "    for rows in us :\n",
    "        day_week = rows[3]\n",
    "        birth = rows[4]\n",
    "        if day_week in us_day_births:\n",
    "            us_day_births[day_week] +=birth\n",
    "        else:\n",
    "            us_day_births[day_week] =birth\n",
    "    return (us_day_births)\n",
    "us_day_births= day_births(us_births_list)\n",
    "print(us_day_births)"
   ]
  },
  {
   "cell_type": "markdown",
   "id": "e692909b",
   "metadata": {},
   "source": [
    "## Creation d'une fonction plus generale"
   ]
  },
  {
   "cell_type": "code",
   "execution_count": 31,
   "id": "aa05cb05",
   "metadata": {},
   "outputs": [
    {
     "name": "stdout",
     "output_type": "stream",
     "text": [
      "{2000: 4149598, 2001: 4110963, 2002: 4099313, 2003: 4163060, 2004: 4186863, 2005: 4211941, 2006: 4335154, 2007: 4380784, 2008: 4310737, 2009: 4190991, 2010: 4055975, 2011: 4006908, 2012: 4000868, 2013: 3973337, 2014: 4010532}\n"
     ]
    }
   ],
   "source": [
    "def cal_counts(list,column):\n",
    "    births_per_col={}\n",
    "    for li in list:\n",
    "        id = li[column]\n",
    "        births= li[4]\n",
    "        if id in births_per_col:\n",
    "            births_per_col[id] +=births\n",
    "        else:\n",
    "              births_per_col[id] =births\n",
    "    return (births_per_col)\n",
    "us_year_births=cal_counts(us_births_list,0)\n",
    "print(us_year_births)\n",
    "            "
   ]
  },
  {
   "cell_type": "code",
   "execution_count": null,
   "id": "cf5f4d18",
   "metadata": {},
   "outputs": [],
   "source": []
  }
 ],
 "metadata": {
  "kernelspec": {
   "display_name": "Python 3 (ipykernel)",
   "language": "python",
   "name": "python3"
  },
  "language_info": {
   "codemirror_mode": {
    "name": "ipython",
    "version": 3
   },
   "file_extension": ".py",
   "mimetype": "text/x-python",
   "name": "python",
   "nbconvert_exporter": "python",
   "pygments_lexer": "ipython3",
   "version": "3.9.13"
  }
 },
 "nbformat": 4,
 "nbformat_minor": 5
}
