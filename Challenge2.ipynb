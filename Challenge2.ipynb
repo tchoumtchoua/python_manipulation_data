{
 "cells": [
  {
   "cell_type": "markdown",
   "id": "c92f5036",
   "metadata": {},
   "source": [
    "## introduction aux dataset"
   ]
  },
  {
   "cell_type": "code",
   "execution_count": 6,
   "id": "abc04f59",
   "metadata": {},
   "outputs": [
    {
     "name": "stdout",
     "output_type": "stream",
     "text": [
      "{2014: 29, 1946: 1, 1947: 1, 2010: 21, 2008: 10, 2007: 17, 1983: 1, 2009: 10, 2005: 8, 2000: 1, 2012: 45, 2001: 3, 2006: 11, 1989: 17, 0: 1, 1963: 1, 2013: 40, 1990: 3, 2011: 13, 2004: 6, 2002: 7, 2003: 9, 1997: 3, 1999: 5, 1993: 1, 1995: 1, 1998: 2, 1994: 1, 1986: 1}\n"
     ]
    }
   ],
   "source": [
    "import csv\n",
    "f= open('nfl_suspensions_data.csv','r')\n",
    "nfl_suspensions= list(csv.reader(f))\n",
    "nfl_suspensions = nfl_suspensions[1:]\n",
    "years={}\n",
    "for row in nfl_suspensions:\n",
    "    try:\n",
    "        year=int(row[5])\n",
    "    except Exception:\n",
    "        year =0\n",
    "    if year in years :\n",
    "        years[year] +=1\n",
    "    else :\n",
    "        years[year] =1\n",
    "print(years)        "
   ]
  },
  {
   "cell_type": "markdown",
   "id": "5968263f",
   "metadata": {},
   "source": [
    "## Valeurs uniques "
   ]
  },
  {
   "cell_type": "code",
   "execution_count": 10,
   "id": "424d2e9a",
   "metadata": {},
   "outputs": [
    {
     "name": "stdout",
     "output_type": "stream",
     "text": [
      "['CHI', 'NO', 'ATL', 'HOU', 'LA', 'IND', 'NYJ', 'OAK', 'BAL', 'JAX', 'CLE', 'CAR', 'PHI', 'SF', 'TEN', 'PIT', 'SEA', 'STL', 'TB', 'SD', 'MIN', 'CIN', 'MIA', 'FREE', 'KC', 'ARI', 'NYG', 'DAL', 'BUF', 'GB', 'DEN', 'DET', 'NE', 'WAS']\n",
      "['36', '10', '1', '14', '6', '20', 'Indef.', '8', '4', '5', '3', '32', '2', '16']\n"
     ]
    }
   ],
   "source": [
    "unique_teams= list(set([row[1] for row in nfl_suspensions]))\n",
    "unique_games = list(set([row[2] for row in nfl_suspensions]))\n",
    "print(unique_teams)\n",
    "print(unique_games)\n",
    "\n"
   ]
  },
  {
   "cell_type": "markdown",
   "id": "c07069ca",
   "metadata": {},
   "source": [
    "## Classes suspensions"
   ]
  },
  {
   "cell_type": "code",
   "execution_count": 21,
   "id": "1de1040e",
   "metadata": {},
   "outputs": [
    {
     "name": "stdout",
     "output_type": "stream",
     "text": [
      "0\n"
     ]
    }
   ],
   "source": [
    "class suspension:\n",
    "    def __init__(self,row):\n",
    "        self.name=row[0]\n",
    "        self.team=row[1]\n",
    "        self.games=row[2]\n",
    "        try:\n",
    "            self.year=int(row[5])\n",
    "        except Exception:\n",
    "            self.year =0\n",
    "    def get_year(self):\n",
    "        return(self.year)\n",
    "\n",
    "        \n",
    "play = suspension(nfl_suspensions[2])\n",
    "play.games\n",
    "missing_year=suspension(nfl_suspensions[22])\n",
    "print(missing_year.get_year())"
   ]
  },
  {
   "cell_type": "code",
   "execution_count": null,
   "id": "7ce15119",
   "metadata": {},
   "outputs": [],
   "source": []
  },
  {
   "cell_type": "code",
   "execution_count": null,
   "id": "8432db21",
   "metadata": {},
   "outputs": [],
   "source": []
  }
 ],
 "metadata": {
  "kernelspec": {
   "display_name": "Python 3 (ipykernel)",
   "language": "python",
   "name": "python3"
  },
  "language_info": {
   "codemirror_mode": {
    "name": "ipython",
    "version": 3
   },
   "file_extension": ".py",
   "mimetype": "text/x-python",
   "name": "python",
   "nbconvert_exporter": "python",
   "pygments_lexer": "ipython3",
   "version": "3.9.13"
  }
 },
 "nbformat": 4,
 "nbformat_minor": 5
}
