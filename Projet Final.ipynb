{
 "cells": [
  {
   "cell_type": "markdown",
   "id": "2c5049a6",
   "metadata": {},
   "source": [
    "## Exploration de la dataset"
   ]
  },
  {
   "cell_type": "code",
   "execution_count": 4,
   "id": "da7c8f5f",
   "metadata": {},
   "outputs": [
    {
     "name": "stdout",
     "output_type": "stream",
     "text": [
      "[['', 'year', 'month', 'intent', 'police', 'sex', 'age', 'race', 'hispanic', 'place', 'education'], ['1', '2012', '01', 'Suicide', '0', 'M', '34', 'Asian/Pacific Islander', '100', 'Home', '4'], ['2', '2012', '01', 'Suicide', '0', 'F', '21', 'White', '100', 'Street', '3'], ['3', '2012', '01', 'Suicide', '0', 'M', '60', 'White', '100', 'Other specified', '4'], ['4', '2012', '02', 'Suicide', '0', 'M', '64', 'White', '100', 'Home', '4']]\n",
      "['', 'year', 'month', 'intent', 'police', 'sex', 'age', 'race', 'hispanic', 'place', 'education']\n",
      "[['1', '2012', '01', 'Suicide', '0', 'M', '34', 'Asian/Pacific Islander', '100', 'Home', '4'], ['2', '2012', '01', 'Suicide', '0', 'F', '21', 'White', '100', 'Street', '3'], ['3', '2012', '01', 'Suicide', '0', 'M', '60', 'White', '100', 'Other specified', '4'], ['4', '2012', '02', 'Suicide', '0', 'M', '64', 'White', '100', 'Home', '4'], ['5', '2012', '02', 'Suicide', '0', 'M', '31', 'White', '100', 'Other specified', '2']]\n"
     ]
    }
   ],
   "source": [
    "import csv\n",
    "f= open ('guns.csv', encoding= 'utf-8')\n",
    "csvreader = csv.reader(f)\n",
    "data = list(csvreader)\n",
    "print(data[:5])\n",
    "hearder = data[0]\n",
    "data = data [1:]\n",
    "print(hearder)\n",
    "print(data[:5])"
   ]
  },
  {
   "cell_type": "markdown",
   "id": "43043a22",
   "metadata": {},
   "source": [
    "## Compter le nombre de décès par armes à feu aux usa par années"
   ]
  },
  {
   "cell_type": "code",
   "execution_count": 10,
   "id": "899210a5",
   "metadata": {},
   "outputs": [
    {
     "name": "stdout",
     "output_type": "stream",
     "text": [
      "{'2012': 33562, '2013': 33635, '2014': 33598}\n"
     ]
    }
   ],
   "source": [
    "years = [row[1] for row in data]\n",
    "years_counts={}\n",
    "for year in years:\n",
    "    if year not in  years_counts:\n",
    "        years_counts[year] =0\n",
    "    else:\n",
    "        years_counts[year] +=1\n",
    "        \n",
    "print(years_counts)        \n",
    "    "
   ]
  },
  {
   "cell_type": "markdown",
   "id": "efaae779",
   "metadata": {},
   "source": [
    "## Exploration du nombre de deces par mois "
   ]
  },
  {
   "cell_type": "code",
   "execution_count": 13,
   "id": "f2012fcf",
   "metadata": {},
   "outputs": [
    {
     "name": "stdout",
     "output_type": "stream",
     "text": [
      "{datetime.datetime(2012, 1, 1, 0, 0): 2758, datetime.datetime(2012, 2, 1, 0, 0): 2357, datetime.datetime(2012, 3, 1, 0, 0): 2743, datetime.datetime(2012, 4, 1, 0, 0): 2795, datetime.datetime(2012, 5, 1, 0, 0): 2999, datetime.datetime(2012, 6, 1, 0, 0): 2826, datetime.datetime(2012, 7, 1, 0, 0): 3026, datetime.datetime(2012, 8, 1, 0, 0): 2954, datetime.datetime(2012, 9, 1, 0, 0): 2852, datetime.datetime(2012, 10, 1, 0, 0): 2733, datetime.datetime(2012, 11, 1, 0, 0): 2729, datetime.datetime(2012, 12, 1, 0, 0): 2791, datetime.datetime(2013, 1, 1, 0, 0): 2864, datetime.datetime(2013, 2, 1, 0, 0): 2375, datetime.datetime(2013, 3, 1, 0, 0): 2862, datetime.datetime(2013, 4, 1, 0, 0): 2798, datetime.datetime(2013, 5, 1, 0, 0): 2806, datetime.datetime(2013, 6, 1, 0, 0): 2920, datetime.datetime(2013, 7, 1, 0, 0): 3079, datetime.datetime(2013, 8, 1, 0, 0): 2859, datetime.datetime(2013, 9, 1, 0, 0): 2742, datetime.datetime(2013, 10, 1, 0, 0): 2808, datetime.datetime(2013, 11, 1, 0, 0): 2758, datetime.datetime(2013, 12, 1, 0, 0): 2765, datetime.datetime(2014, 1, 1, 0, 0): 2651, datetime.datetime(2014, 2, 1, 0, 0): 2361, datetime.datetime(2014, 3, 1, 0, 0): 2684, datetime.datetime(2014, 4, 1, 0, 0): 2862, datetime.datetime(2014, 5, 1, 0, 0): 2864, datetime.datetime(2014, 6, 1, 0, 0): 2931, datetime.datetime(2014, 7, 1, 0, 0): 2884, datetime.datetime(2014, 8, 1, 0, 0): 2970, datetime.datetime(2014, 9, 1, 0, 0): 2914, datetime.datetime(2014, 10, 1, 0, 0): 2865, datetime.datetime(2014, 11, 1, 0, 0): 2756, datetime.datetime(2014, 12, 1, 0, 0): 2857}\n"
     ]
    }
   ],
   "source": [
    "import datetime\n",
    "dates = [ datetime.datetime(year = int(row[1]) , month = int(row[2]), day =1 ) for row in data]\n",
    "dates[:5]\n",
    "dates_counts= {}\n",
    "for date in dates:\n",
    "    if date not in dates_counts:\n",
    "        dates_counts[date]=0\n",
    "    dates_counts[date] +=1\n",
    "print(dates_counts)    \n",
    "                            "
   ]
  },
  {
   "cell_type": "markdown",
   "id": "344291b0",
   "metadata": {},
   "source": [
    "## Exploration du nombre de deces par sexe et par origine"
   ]
  },
  {
   "cell_type": "code",
   "execution_count": 14,
   "id": "15b70199",
   "metadata": {},
   "outputs": [
    {
     "name": "stdout",
     "output_type": "stream",
     "text": [
      "{'M': 86349, 'F': 14449}\n"
     ]
    }
   ],
   "source": [
    "sexes = [ row[5] for row in data]\n",
    "sex_counts= {}\n",
    "for sex in sexes :\n",
    "    if sex not in sex_counts:\n",
    "        sex_counts[sex] =0\n",
    "    sex_counts[sex] +=1\n",
    "print(sex_counts)    "
   ]
  },
  {
   "cell_type": "code",
   "execution_count": 16,
   "id": "c2d021c3",
   "metadata": {},
   "outputs": [
    {
     "name": "stdout",
     "output_type": "stream",
     "text": [
      "{'Asian/Pacific Islander': 1326, 'White': 66237, 'Native American/Native Alaskan': 917, 'Black': 23296, 'Hispanic': 9022}\n"
     ]
    }
   ],
   "source": [
    "origin = [row[7] for row in data]\n",
    "race_counts={}\n",
    "for race in origin:\n",
    "    if race not in race_counts:\n",
    "        race_counts[race]=0\n",
    "    race_counts[race]+=1\n",
    "print(race_counts)    "
   ]
  },
  {
   "cell_type": "markdown",
   "id": "0ac2ce9c",
   "metadata": {},
   "source": [
    "## Dataset Population totale par origie aux USA"
   ]
  },
  {
   "cell_type": "code",
   "execution_count": 17,
   "id": "f4d26597",
   "metadata": {},
   "outputs": [
    {
     "name": "stdout",
     "output_type": "stream",
     "text": [
      "[['Id', 'Year', 'Id', 'Sex', 'Id', 'Hispanic Origin', 'Id', 'Id2', 'Geography', 'Total', 'Race Alone - White', 'Race Alone - Hispanic', 'Race Alone - Black or African American', 'Race Alone - American Indian and Alaska Native', 'Race Alone - Asian', 'Race Alone - Native Hawaiian and Other Pacific Islander', 'Two or More Races'], ['cen42010', 'April 1, 2010 Census', 'totsex', 'Both Sexes', 'tothisp', 'Total', '0100000US', '', 'United States', '308745538', '197318956', '44618105', '40250635', '3739506', '15159516', '674625', '6984195']]\n"
     ]
    }
   ],
   "source": [
    "import csv\n",
    "f = open ('census.csv','r')\n",
    "reader = csv.reader(f)\n",
    "datas = list(reader)\n",
    "print(datas)"
   ]
  },
  {
   "cell_type": "markdown",
   "id": "eee4c0fd",
   "metadata": {},
   "source": [
    "## Filtrer par homicide"
   ]
  },
  {
   "cell_type": "code",
   "execution_count": 21,
   "id": "6a8118bf",
   "metadata": {},
   "outputs": [
    {
     "name": "stdout",
     "output_type": "stream",
     "text": [
      "{'Id2': 0, '': 0}\n"
     ]
    }
   ],
   "source": [
    "intens = [row[3] for row in datas]\n",
    "races = [ row[7] for row in datas]\n",
    "homicide_counts={}\n",
    "for i,race in enumerate(races):\n",
    "    if race not in homicide_counts:\n",
    "        homicide_counts[race]=0\n",
    "    if intens[i]== \"Homicide\":\n",
    "        homicide_counts[race] +=1\n",
    "print(homicide_counts)        \n",
    "        "
   ]
  },
  {
   "cell_type": "code",
   "execution_count": null,
   "id": "ae1fc681",
   "metadata": {},
   "outputs": [],
   "source": []
  }
 ],
 "metadata": {
  "kernelspec": {
   "display_name": "Python 3 (ipykernel)",
   "language": "python",
   "name": "python3"
  },
  "language_info": {
   "codemirror_mode": {
    "name": "ipython",
    "version": 3
   },
   "file_extension": ".py",
   "mimetype": "text/x-python",
   "name": "python",
   "nbconvert_exporter": "python",
   "pygments_lexer": "ipython3",
   "version": "3.9.13"
  }
 },
 "nbformat": 4,
 "nbformat_minor": 5
}
