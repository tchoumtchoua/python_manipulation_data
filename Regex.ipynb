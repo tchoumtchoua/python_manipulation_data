{
 "cells": [
  {
   "cell_type": "markdown",
   "id": "bb25443d",
   "metadata": {},
   "source": [
    "# Les Fonctions Regulières (Regex)"
   ]
  },
  {
   "cell_type": "markdown",
   "id": "83727bd4",
   "metadata": {},
   "source": [
    "## Recherches du debut ou la fin d'une chaine de caractère"
   ]
  },
  {
   "cell_type": "code",
   "execution_count": 1,
   "id": "05b066ae",
   "metadata": {},
   "outputs": [],
   "source": [
    "# ^ ce caractère permet de trouver l'element qui est qui est au debut d'une chaine de caractère\n",
    "# $ celui ci permet de trouver l'element qui est a la fin d'une chaine de caractère\n",
    "#le point entre deux lettres determine tout les mots ou chaine de caractère qui ont un mot constitue de ces lettres avec n'importe quel lettre entre eux"
   ]
  },
  {
   "cell_type": "code",
   "execution_count": 2,
   "id": "3b0fde75",
   "metadata": {},
   "outputs": [],
   "source": [
    "strings=[\"il est fou\",\"feu\"]\n",
    "bad_strings=[\"feu de paille\"]\n",
    "# regex permettant d'identifier uniquement les elements de la liste stings\n",
    "regex=\"f.u$\""
   ]
  },
  {
   "cell_type": "markdown",
   "id": "eee5402f",
   "metadata": {},
   "source": [
    "## Introduction aux dataset"
   ]
  },
  {
   "cell_type": "code",
   "execution_count": 6,
   "id": "daae30b3",
   "metadata": {},
   "outputs": [
    {
     "name": "stdout",
     "output_type": "stream",
     "text": [
      "['What\\'s your internet \"white whale\", something you\\'ve been searching for years to find with no luck?', '11510', '1433213314.0', '1', '26195']\n",
      "[\"What's your favorite video that is 10 seconds or less?\", '8656', '1434205517.0', '4', '8479']\n",
      "['What are some interesting tests you can take to find out about yourself?', '8480', '1443409636.0', '1', '4055']\n",
      "[\"PhD's of Reddit. What is a dumbed down summary of your thesis?\", '7927', '1440188623.0', '0', '13201']\n",
      "['What is cool to be good at, yet uncool to be REALLY good at?', '7711', '1440082910.0', '0', '20325']\n",
      "['[Serious] Redditors currently in a relationship, besides dinner and a movie, what are your favorite activities for date night?', '7598', '1439993280.0', '2', '5389']\n",
      "[\"Parents of Reddit, what's something that your kid has done that you pretended to be angry about but secretly impressed or amused you?\", '7553', '1439161809.0', '0', '11520']\n",
      "['What is a good subreddit to binge read the All Time Top Posts of?', '7498', '1438822288.0', '0', '2780']\n",
      "['What would the person who named Walkie Talkies have named other items?', '7501', '1447904351.0', '4', '6720']\n",
      "[\"People who grew up in a different socioeconomic class as your significant others, what are the notable differences you've noticed and how does it affect your relationship (if at all)?\", '7419', '1440358069.0', '0', '8603']\n"
     ]
    }
   ],
   "source": [
    "import csv\n",
    "f=open(\"askreddit_2015.csv\",encoding='utf-8')\n",
    "csvreader= csv.reader(f)\n",
    "posts= list(csvreader)\n",
    "posts= posts[1:]\n",
    "for post in posts[:10]:\n",
    "    print(post)\n"
   ]
  },
  {
   "cell_type": "markdown",
   "id": "e08a7d9a",
   "metadata": {},
   "source": [
    "## compter les correspondances avec le module re()"
   ]
  },
  {
   "cell_type": "code",
   "execution_count": 11,
   "id": "5ac9c4e3",
   "metadata": {},
   "outputs": [
    {
     "name": "stdout",
     "output_type": "stream",
     "text": [
      "trouvé\n"
     ]
    }
   ],
   "source": [
    "# re.search(regex,string)\n",
    "import re\n",
    "if re.search(\"f.\",\"kung fu\") is not None:\n",
    "    print(\"trouvé\")\n",
    "else:\n",
    "    print(\"pas de correspondance\")\n",
    "    \n",
    "    \n"
   ]
  },
  {
   "cell_type": "code",
   "execution_count": 19,
   "id": "1ea94a12",
   "metadata": {},
   "outputs": [
    {
     "name": "stdout",
     "output_type": "stream",
     "text": [
      "102\n"
     ]
    }
   ],
   "source": [
    "import re\n",
    "of_reddit_count=0\n",
    "for post in posts:\n",
    "    if re.search(\"of [Rr]eddit\",post[0]) is not None:\n",
    "        of_reddit_count = of_reddit_count +1\n",
    "print(of_reddit_count)    \n",
    "        "
   ]
  },
  {
   "cell_type": "markdown",
   "id": "e1beeb75",
   "metadata": {},
   "source": [
    "## Ignorer des caractères spéciaux\n"
   ]
  },
  {
   "cell_type": "code",
   "execution_count": 2,
   "id": "bbfa4cec",
   "metadata": {},
   "outputs": [
    {
     "name": "stdout",
     "output_type": "stream",
     "text": [
      "69\n"
     ]
    }
   ],
   "source": [
    "import re \n",
    "import csv\n",
    "f=open(\"askreddit_2015.csv\",encoding='utf-8')\n",
    "csvreader= csv.reader(f)\n",
    "posts= list(csvreader)\n",
    "posts= posts[1:]\n",
    "serious_count =0\n",
    "for post in posts:\n",
    "    if re.search(\"\\[Serious\\]\",post[0]) is not None:\n",
    "        serious_count +=1\n",
    "print(serious_count)        "
   ]
  },
  {
   "cell_type": "code",
   "execution_count": 3,
   "id": "138d1f83",
   "metadata": {},
   "outputs": [
    {
     "name": "stdout",
     "output_type": "stream",
     "text": [
      "80\n"
     ]
    }
   ],
   "source": [
    "serious_count=0\n",
    "for post in posts:\n",
    "    if re.search(\"[\\[\\(][Ss]erious[\\]\\)]\",post[0]):\n",
    "        serious_count +=1\n",
    "print(serious_count)        "
   ]
  },
  {
   "cell_type": "markdown",
   "id": "72fe1ee9",
   "metadata": {},
   "source": [
    "## Combiner plusieurs regex"
   ]
  },
  {
   "cell_type": "code",
   "execution_count": 5,
   "id": "c0f71724",
   "metadata": {},
   "outputs": [
    {
     "name": "stdout",
     "output_type": "stream",
     "text": [
      "69\n",
      "11\n"
     ]
    }
   ],
   "source": [
    "serious_start_count=0\n",
    "serious_end_count =0\n",
    "for post in posts:\n",
    "    if re.search(\"^[\\[\\(][Ss]erious[\\]\\)]\", post[0]):\n",
    "        serious_start_count +=1\n",
    "    if re.search(\"[\\[\\(][Ss]erious[\\]\\)]$\",post[0]):\n",
    "        serious_end_count +=1\n",
    "print(serious_start_count) \n",
    "print(serious_end_count)\n",
    "        "
   ]
  },
  {
   "cell_type": "code",
   "execution_count": 6,
   "id": "7745a9d9",
   "metadata": {},
   "outputs": [
    {
     "name": "stdout",
     "output_type": "stream",
     "text": [
      "80\n"
     ]
    }
   ],
   "source": [
    "serious_final_count=0\n",
    "for post in posts:\n",
    "    if re.search(\"^[\\[\\(][Ss]erious[\\]\\)]|[\\[\\(][Ss]erious[\\]\\)]$\",post[0]):\n",
    "        serious_final_count +=1\n",
    "print(serious_final_count)        \n",
    "        \n",
    "        "
   ]
  },
  {
   "cell_type": "markdown",
   "id": "607dd7ba",
   "metadata": {},
   "source": [
    "## Modifier des chaines de caractères avec les regex"
   ]
  },
  {
   "cell_type": "code",
   "execution_count": 7,
   "id": "c78886c7",
   "metadata": {},
   "outputs": [],
   "source": [
    "# en utilisant la methode sub() du module re() "
   ]
  },
  {
   "cell_type": "markdown",
   "id": "26fd7abb",
   "metadata": {},
   "source": [
    "###  Trainning"
   ]
  },
  {
   "cell_type": "code",
   "execution_count": 14,
   "id": "387326d8",
   "metadata": {},
   "outputs": [
    {
     "name": "stdout",
     "output_type": "stream",
     "text": [
      "['What\\'s your internet \"white whale\", something you\\'ve been searching for years to find with no luck?', \"What's your favorite video that is 10 seconds or less?\", 'What are some interesting tests you can take to find out about yourself?', \"PhD's of Reddit. What is a dumbed down summary of your thesis?\", 'What is cool to be good at, yet uncool to be REALLY good at?', '[Serious] Redditors currently in a relationship, besides dinner and a movie, what are your favorite activities for date night?', \"Parents of Reddit, what's something that your kid has done that you pretended to be angry about but secretly impressed or amused you?\", 'What is a good subreddit to binge read the All Time Top Posts of?', 'What would the person who named Walkie Talkies have named other items?', \"People who grew up in a different socioeconomic class as your significant others, what are the notable differences you've noticed and how does it affect your relationship (if at all)?\"]\n"
     ]
    }
   ],
   "source": [
    "posts_new=[]\n",
    "for post in posts:\n",
    "    post[0]= re.sub(\"[\\[\\(][Ss]erious[\\]\\)]\",\"[Serious]\",post[0])\n",
    "    posts_new.append(post[0])\n",
    "print(posts_new[:10])        "
   ]
  },
  {
   "cell_type": "markdown",
   "id": "b744a305",
   "metadata": {},
   "source": [
    "## Extraire toutes les années"
   ]
  },
  {
   "cell_type": "code",
   "execution_count": 16,
   "id": "6cf9a982",
   "metadata": {},
   "outputs": [
    {
     "name": "stdout",
     "output_type": "stream",
     "text": [
      "['2017', '2016', '2018']\n"
     ]
    }
   ],
   "source": [
    "strings_years=\"on est deja en 2017 , une année de plus en 2016 et une année de moins en 2018\"\n",
    "years = re.findall(\"[1-2][0-9]{3}\",strings_years)\n",
    "print(years)\n",
    "        "
   ]
  },
  {
   "cell_type": "code",
   "execution_count": null,
   "id": "728f868e",
   "metadata": {},
   "outputs": [],
   "source": []
  }
 ],
 "metadata": {
  "kernelspec": {
   "display_name": "Python 3 (ipykernel)",
   "language": "python",
   "name": "python3"
  },
  "language_info": {
   "codemirror_mode": {
    "name": "ipython",
    "version": 3
   },
   "file_extension": ".py",
   "mimetype": "text/x-python",
   "name": "python",
   "nbconvert_exporter": "python",
   "pygments_lexer": "ipython3",
   "version": "3.9.13"
  }
 },
 "nbformat": 4,
 "nbformat_minor": 5
}
