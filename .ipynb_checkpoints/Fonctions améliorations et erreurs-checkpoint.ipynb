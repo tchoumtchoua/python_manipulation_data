{
 "cells": [
  {
   "cell_type": "markdown",
   "id": "1bf5ef90",
   "metadata": {},
   "source": [
    "# Fonctions améliorations et erreurs"
   ]
  },
  {
   "cell_type": "markdown",
   "id": "8c6889d2",
   "metadata": {},
   "source": [
    "## Arguments"
   ]
  },
  {
   "cell_type": "code",
   "execution_count": 1,
   "id": "dcdbf6f9",
   "metadata": {},
   "outputs": [],
   "source": [
    "vocabulary = open(\"dictionnaire.txt\",\"r\",encoding = 'utf-8').read()\n",
    "text_string = open(\"texte.txt\",'r',encoding=\"utf-8\").read()\n"
   ]
  },
  {
   "cell_type": "code",
   "execution_count": 2,
   "id": "3c90ae60",
   "metadata": {},
   "outputs": [],
   "source": [
    "def clean_text(text_string,special_character,remplacement_string):\n",
    "    cleaned_text = text_string\n",
    "    for string in special_character:\n",
    "        cleaned_text = cleaned_text.replace(string,remplacement_string)\n",
    "    cleaned_text = cleaned_text.lower()\n",
    "    return (cleaned_text)\n",
    "\n",
    "\n",
    "special_caracter=[',','.',\"'\",'\\n']\n",
    "remplacement =\"\""
   ]
  },
  {
   "cell_type": "code",
   "execution_count": 23,
   "id": "ffb1fbc7",
   "metadata": {},
   "outputs": [],
   "source": [
    "def tokenize (text_string,special_character,remplacement_string, clean = False ):\n",
    "    cleaned_text= text_string\n",
    "     if clean:\n",
    "        cleaned_text= clean_text(text_string,special_character,remplacement_string)\n",
    "    text_tokens = cleaned_text.split(\" \")\n",
    "    return (text_tokens)"
   ]
  },
  {
   "cell_type": "code",
   "execution_count": 42,
   "id": "b523b1bb",
   "metadata": {},
   "outputs": [
    {
     "ename": "TypeError",
     "evalue": "clean_text() takes 3 positional arguments but 4 were given",
     "output_type": "error",
     "traceback": [
      "\u001b[1;31m---------------------------------------------------------------------------\u001b[0m",
      "\u001b[1;31mTypeError\u001b[0m                                 Traceback (most recent call last)",
      "\u001b[1;32m~\\AppData\\Local\\Temp\\ipykernel_3692\\2749031789.py\u001b[0m in \u001b[0;36m<module>\u001b[1;34m\u001b[0m\n\u001b[1;32m----> 1\u001b[1;33m \u001b[0mtokenized_text\u001b[0m \u001b[1;33m=\u001b[0m \u001b[0mtokenize\u001b[0m\u001b[1;33m(\u001b[0m\u001b[0mtext_string\u001b[0m\u001b[1;33m,\u001b[0m\u001b[0mspecial_caracter\u001b[0m\u001b[1;33m,\u001b[0m\u001b[0mremplacement\u001b[0m\u001b[1;33m,\u001b[0m \u001b[0mclean\u001b[0m \u001b[1;33m=\u001b[0m\u001b[1;32mTrue\u001b[0m\u001b[1;33m)\u001b[0m\u001b[1;33m\u001b[0m\u001b[1;33m\u001b[0m\u001b[0m\n\u001b[0m\u001b[0;32m      2\u001b[0m \u001b[0mprint\u001b[0m\u001b[1;33m(\u001b[0m\u001b[0mtokenized_text\u001b[0m\u001b[1;33m[\u001b[0m\u001b[1;36m0\u001b[0m\u001b[1;33m:\u001b[0m\u001b[1;36m10\u001b[0m\u001b[1;33m]\u001b[0m\u001b[1;33m)\u001b[0m\u001b[1;33m\u001b[0m\u001b[1;33m\u001b[0m\u001b[0m\n",
      "\u001b[1;32m~\\AppData\\Local\\Temp\\ipykernel_3692\\3143718266.py\u001b[0m in \u001b[0;36mtokenize\u001b[1;34m(text_string, special_character, remplacement_string, clean)\u001b[0m\n\u001b[0;32m      2\u001b[0m     \u001b[0mcleaned_text\u001b[0m\u001b[1;33m=\u001b[0m \u001b[0mtext_string\u001b[0m\u001b[1;33m\u001b[0m\u001b[1;33m\u001b[0m\u001b[0m\n\u001b[0;32m      3\u001b[0m     \u001b[1;32mif\u001b[0m \u001b[0mclean\u001b[0m\u001b[1;33m:\u001b[0m\u001b[1;33m\u001b[0m\u001b[1;33m\u001b[0m\u001b[0m\n\u001b[1;32m----> 4\u001b[1;33m         \u001b[0mcleaned_text\u001b[0m\u001b[1;33m=\u001b[0m \u001b[0mclean_text\u001b[0m\u001b[1;33m(\u001b[0m\u001b[0mtext_string\u001b[0m\u001b[1;33m,\u001b[0m\u001b[0mspecial_character\u001b[0m\u001b[1;33m,\u001b[0m\u001b[0mremplacement_string\u001b[0m\u001b[1;33m,\u001b[0m \u001b[1;32mTrue\u001b[0m\u001b[1;33m)\u001b[0m\u001b[1;33m\u001b[0m\u001b[1;33m\u001b[0m\u001b[0m\n\u001b[0m\u001b[0;32m      5\u001b[0m     \u001b[0mtext_tokens\u001b[0m \u001b[1;33m=\u001b[0m \u001b[0mcleaned_text\u001b[0m\u001b[1;33m.\u001b[0m\u001b[0msplit\u001b[0m\u001b[1;33m(\u001b[0m\u001b[1;34m\" \"\u001b[0m\u001b[1;33m)\u001b[0m\u001b[1;33m\u001b[0m\u001b[1;33m\u001b[0m\u001b[0m\n\u001b[0;32m      6\u001b[0m     \u001b[1;32mreturn\u001b[0m \u001b[1;33m(\u001b[0m\u001b[0mtext_tokens\u001b[0m\u001b[1;33m)\u001b[0m\u001b[1;33m\u001b[0m\u001b[1;33m\u001b[0m\u001b[0m\n",
      "\u001b[1;31mTypeError\u001b[0m: clean_text() takes 3 positional arguments but 4 were given"
     ]
    }
   ],
   "source": [
    "tokenized_text = tokenize(text_string,special_caracter,remplacement, clean =True)\n",
    "print(tokenized_text[0:10])"
   ]
  },
  {
   "cell_type": "code",
   "execution_count": null,
   "id": "7134ab97",
   "metadata": {},
   "outputs": [],
   "source": []
  },
  {
   "cell_type": "code",
   "execution_count": null,
   "id": "7b93cfbc",
   "metadata": {},
   "outputs": [],
   "source": []
  }
 ],
 "metadata": {
  "kernelspec": {
   "display_name": "Python 3 (ipykernel)",
   "language": "python",
   "name": "python3"
  },
  "language_info": {
   "codemirror_mode": {
    "name": "ipython",
    "version": 3
   },
   "file_extension": ".py",
   "mimetype": "text/x-python",
   "name": "python",
   "nbconvert_exporter": "python",
   "pygments_lexer": "ipython3",
   "version": "3.9.13"
  }
 },
 "nbformat": 4,
 "nbformat_minor": 5
}
