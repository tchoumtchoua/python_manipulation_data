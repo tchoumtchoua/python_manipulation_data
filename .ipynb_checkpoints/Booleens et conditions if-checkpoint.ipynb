{
 "cells": [
  {
   "cell_type": "markdown",
   "id": "a1dcefbb",
   "metadata": {},
   "source": [
    "## Booléens et conditions if"
   ]
  },
  {
   "cell_type": "markdown",
   "id": "4f3bf941",
   "metadata": {},
   "source": [
    "### Booléens et opérateurs"
   ]
  },
  {
   "cell_type": "code",
   "execution_count": 7,
   "id": "b87929df",
   "metadata": {},
   "outputs": [
    {
     "name": "stdout",
     "output_type": "stream",
     "text": [
      "['Ain', 'Aisne', 'Allier', 'Alpes-de-Haute-Provence', 'Alpes-Maritimes', 'Ardèche', 'Ardennes', 'Ariège', 'Aube', 'Aude', 'Aveyron', 'Bas-Rhin', 'Bouches-du-Rhône', 'Calvados', 'Cantal', 'Charente', 'Charente-Maritime', 'Cher', 'Corrèze', 'Corse-du-Sud', \"Côte-d'Or\", \"Côtes-d'Armor\", 'Creuse', 'Deux-Sèvres', 'Dordogne', 'Doubs', 'Drôme', 'Essonne', 'Eure', 'Eure-et-Loir', 'Finistère', 'Gard', 'Gers', 'Gironde', 'Guadeloupe', 'Guyane', 'Haute-Corse', 'Haute-Garonne', 'Haute-Loire', 'Haute-Marne', 'Hautes-Alpes', 'Haute-Saône', 'Haute-Savoie', 'Hautes-Pyrénées', 'Haute-Vienne', 'Haut-Rhin', 'Hauts-de-Seine', 'Hérault', 'Ille-et-Vilaine', 'Indre', 'Indre-et-Loire', 'Isère', 'Jura', 'La Réunion', 'Landes', 'Loire', 'Loire-Atlantique', 'Loiret', 'Loir-et-Cher', 'Lot', 'Lot-et-Garonne', 'Lozère', 'Maine-et-Loire', 'Manche', 'Marne', 'Martinique', 'Mayenne', 'Meurthe-et-Moselle', 'Meuse', 'Morbihan', 'Moselle', 'Nièvre', 'Nord', 'Oise', 'Orne', 'Paris', 'Pas-de-Calais', 'Puy-de-Dôme', 'Pyrénées-Atlantiques', 'Pyrénées-Orientales', 'Rhône', 'Saône-et-Loire', 'Sarthe', 'Savoie', 'Seine-et-Marne', 'Seine-Maritime', 'Seine-Saint-Denis', 'Somme', 'Tarn', 'Tarn-et-Garonne', 'Territoire de Belfort', 'Val-de-Marne', \"Val-d'Oise\", 'Var', 'Vaucluse', 'Vendée', 'Vienne', 'Vosges', 'Yonne', 'Yvelines']\n",
      "[643309, 554040, 353262, 166298, 1098785, 332051, 287775, 158076, 316098, 375065, 289901, 1131812, 2035475, 708407, 152400, 366787, 656046, 318590, 249684, 154100, 545001, 617413, 124948, 384655, 428651, 549155, 514104, 1286908, 616076, 445083, 935393, 752382, 197988, 1556663, 406706, 254845, 175499, 1344579, 234078, 186698, 145213, 246022, 806447, 236577, 384708, 775941, 1617484, 1127333, 1060051, 232802, 619004, 1271938, 270826, 541487, 414090, 774262, 1382766, 688098, 344121, 180016, 343198, 80423, 829156, 518322, 584297, 390252, 317716, 746687, 197763, 764338, 1065894, 221048, 2640622, 838646, 297109, 2243739, 1497668, 661248, 688451, 474842, 1833002, 574229, 583961, 440777, 1400477, 1284107, 1582139, 583641, 396341, 258696, 147647, 1377511, 1221946, 1055745, 566592, 681469, 444347, 386978, 352433, 1449398]\n"
     ]
    }
   ],
   "source": [
    "#\n",
    "f = open('departements_fr.csv','r')\n",
    "data = f.read()\n",
    "rows = data.split('\\n')\n",
    "name_departements= []\n",
    "nbr_habitants = []\n",
    "for row in rows:\n",
    "    values = row.split(',')\n",
    "    name_departements.append(values[0])\n",
    "    nbr_habitants.append(int(values[1]))\n",
    "    \n",
    "print(name_departements)\n",
    "print(nbr_habitants)\n",
    "\n",
    "    \n",
    "    "
   ]
  },
  {
   "cell_type": "markdown",
   "id": "004f0f37",
   "metadata": {},
   "source": [
    "### Trainning 1"
   ]
  },
  {
   "cell_type": "code",
   "execution_count": 8,
   "id": "6efc4983",
   "metadata": {},
   "outputs": [],
   "source": [
    "# utilisons les opérateurs booléens pour determiner des equivalences sur la variable name_departements \n"
   ]
  },
  {
   "cell_type": "code",
   "execution_count": 12,
   "id": "42751cf5",
   "metadata": {},
   "outputs": [
    {
     "name": "stdout",
     "output_type": "stream",
     "text": [
      "True\n",
      "False\n",
      "False\n"
     ]
    }
   ],
   "source": [
    "\n",
    "first_Ain = (name_departements[0]==\"Ain\")\n",
    "second_Ain = (name_departements[1]==\"Ain\")\n",
    "first_last = (name_departements[0]== name_departements[len(name_departements)-1])\n",
    "print(first_Ain)\n",
    "print(second_Ain)\n",
    "print(first_last)"
   ]
  },
  {
   "cell_type": "markdown",
   "id": "a9e62787",
   "metadata": {},
   "source": [
    "### Trainning 2"
   ]
  },
  {
   "cell_type": "code",
   "execution_count": 13,
   "id": "6c294d09",
   "metadata": {},
   "outputs": [],
   "source": [
    "# utilisons les operateurs booléens pour faire quelque comparaison sur la variable nbr_habitants"
   ]
  },
  {
   "cell_type": "code",
   "execution_count": 14,
   "id": "4f2a592b",
   "metadata": {},
   "outputs": [
    {
     "name": "stdout",
     "output_type": "stream",
     "text": [
      "True\n",
      "False\n",
      "False\n"
     ]
    }
   ],
   "source": [
    "first_500000 = (nbr_habitants[0] >500000)\n",
    "first_650000 = (nbr_habitants[0] >650000)\n",
    "first_last  = (nbr_habitants[0]>= nbr_habitants[len(nbr_habitants)-1])\n",
    "print(first_500000)\n",
    "print(first_650000)\n",
    "print(first_last)\n"
   ]
  },
  {
   "cell_type": "markdown",
   "id": "e2cb9611",
   "metadata": {},
   "source": [
    "### La condition IF"
   ]
  },
  {
   "cell_type": "code",
   "execution_count": 6,
   "id": "8c08f218",
   "metadata": {},
   "outputs": [
    {
     "name": "stdout",
     "output_type": "stream",
     "text": [
      "65\n"
     ]
    }
   ],
   "source": [
    "age = 65 \n",
    "if age >50:\n",
    "   print( age)"
   ]
  },
  {
   "cell_type": "code",
   "execution_count": 14,
   "id": "ed40a002",
   "metadata": {},
   "outputs": [
    {
     "name": "stdout",
     "output_type": "stream",
     "text": [
      "ce nombre est énorme !!\n"
     ]
    }
   ],
   "source": [
    "value = 1000\n",
    "if value >100:\n",
    "    if value >500:\n",
    "      print(\"ce nombre est énorme !!\")"
   ]
  },
  {
   "cell_type": "markdown",
   "id": "132bcf76",
   "metadata": {},
   "source": [
    "## Trainning 1"
   ]
  },
  {
   "cell_type": "code",
   "execution_count": 15,
   "id": "d568c146",
   "metadata": {},
   "outputs": [],
   "source": [
    "# determine si le sixième élément de la liste name_departements est egale a Ardèche"
   ]
  },
  {
   "cell_type": "code",
   "execution_count": 21,
   "id": "4d1839c6",
   "metadata": {},
   "outputs": [
    {
     "name": "stdout",
     "output_type": "stream",
     "text": [
      "1\n"
     ]
    }
   ],
   "source": [
    "f = open('departements_fr.csv','r')\n",
    "data = f.read()\n",
    "rows = data.split('\\n')\n",
    "name_departements= []\n",
    "nbr_habitants = []\n",
    "for row in rows:\n",
    "    values = row.split(',')\n",
    "    name_departements.append(values[0])\n",
    "    nbr_habitants.append(int(values[1]))\n",
    "result =0\n",
    "if name_departements[5]==\"Ardèche\":\n",
    "    result = 1\n",
    "print(result)    "
   ]
  },
  {
   "cell_type": "markdown",
   "id": "6b8cf44d",
   "metadata": {},
   "source": [
    "### Trainning 2"
   ]
  },
  {
   "cell_type": "code",
   "execution_count": 22,
   "id": "fd49a3a7",
   "metadata": {},
   "outputs": [],
   "source": [
    "# determinons si le premier element de nbr_habitants est superieur à 600000 et que le second est superieur à 300000\n"
   ]
  },
  {
   "cell_type": "code",
   "execution_count": 27,
   "id": "c096a2db",
   "metadata": {},
   "outputs": [
    {
     "name": "stdout",
     "output_type": "stream",
     "text": [
      "True\n"
     ]
    }
   ],
   "source": [
    "both_conditions = False\n",
    "if nbr_habitants[0]>600000:\n",
    "    if nbr_habitants[1]>300000:\n",
    "        both_conditions = True \n",
    "print(both_conditions)        "
   ]
  },
  {
   "cell_type": "markdown",
   "id": "8e08ac41",
   "metadata": {},
   "source": [
    "## Conditions IF et Boucle For\n"
   ]
  },
  {
   "cell_type": "code",
   "execution_count": 28,
   "id": "c85fc2ba",
   "metadata": {},
   "outputs": [],
   "source": [
    "# cherchons l'élément paris dans la liste name_departements"
   ]
  },
  {
   "cell_type": "code",
   "execution_count": 30,
   "id": "621d327b",
   "metadata": {},
   "outputs": [
    {
     "name": "stdout",
     "output_type": "stream",
     "text": [
      "paris est bien présent dans la liste name_departements \n"
     ]
    }
   ],
   "source": [
    "found = False\n",
    "for name in name_departements:\n",
    "    if name == 'Paris':\n",
    "        found = True\n",
    "if found:\n",
    "    print(\"paris est bien présent dans la liste name_departements \")"
   ]
  },
  {
   "cell_type": "code",
   "execution_count": 31,
   "id": "629116fe",
   "metadata": {},
   "outputs": [],
   "source": [
    "# determinons l'index de l'élément paris\n"
   ]
  },
  {
   "cell_type": "code",
   "execution_count": 35,
   "id": "f0468ce9",
   "metadata": {},
   "outputs": [
    {
     "name": "stdout",
     "output_type": "stream",
     "text": [
      "75\n",
      "100\n"
     ]
    }
   ],
   "source": [
    "counter =0\n",
    "index=0\n",
    "for name in name_departements:\n",
    "    if name =='Paris':\n",
    "        index = counter\n",
    "    counter += 1\n",
    "print(index)\n",
    "print(counter)"
   ]
  },
  {
   "cell_type": "markdown",
   "id": "b0a5ed76",
   "metadata": {},
   "source": [
    "### Trainning sur les conditions if et boucles for"
   ]
  },
  {
   "cell_type": "code",
   "execution_count": 36,
   "id": "77aa6ef5",
   "metadata": {},
   "outputs": [],
   "source": [
    "# créons une nouvelle liste qui ne contient que les populations de plus d'un million"
   ]
  },
  {
   "cell_type": "code",
   "execution_count": 37,
   "id": "865b3e09",
   "metadata": {},
   "outputs": [
    {
     "name": "stdout",
     "output_type": "stream",
     "text": [
      "[1098785, 1131812, 2035475, 1286908, 1556663, 1344579, 1617484, 1127333, 1060051, 1271938, 1382766, 1065894, 2640622, 2243739, 1497668, 1833002, 1400477, 1284107, 1582139, 1377511, 1221946, 1055745, 1449398]\n"
     ]
    }
   ],
   "source": [
    "list_million = []\n",
    "for population in nbr_habitants:\n",
    "    if population > 1000000:\n",
    "        list_million.append(population)\n",
    "print(list_million)        \n",
    "        \n"
   ]
  },
  {
   "cell_type": "code",
   "execution_count": null,
   "id": "dcbe5e84",
   "metadata": {},
   "outputs": [],
   "source": []
  }
 ],
 "metadata": {
  "kernelspec": {
   "display_name": "Python 3 (ipykernel)",
   "language": "python",
   "name": "python3"
  },
  "language_info": {
   "codemirror_mode": {
    "name": "ipython",
    "version": 3
   },
   "file_extension": ".py",
   "mimetype": "text/x-python",
   "name": "python",
   "nbconvert_exporter": "python",
   "pygments_lexer": "ipython3",
   "version": "3.9.13"
  }
 },
 "nbformat": 4,
 "nbformat_minor": 5
}
