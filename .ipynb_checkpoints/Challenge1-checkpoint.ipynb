{
 "cells": [
  {
   "cell_type": "markdown",
   "id": "0c676a58",
   "metadata": {},
   "source": [
    "## Lire le fichier dans une liste "
   ]
  },
  {
   "cell_type": "code",
   "execution_count": 5,
   "id": "21df9e5c",
   "metadata": {},
   "outputs": [
    {
     "name": "stdout",
     "output_type": "stream",
     "text": [
      "['Casey,176544.328149', 'Riley,154860.665173', 'Jessie,136381.830656', 'Jackie,132928.78874', 'Avery,121797.419516', 'Jaime,109870.18729', 'Peyton,94896.395216', 'Kerry,88963.92625', 'Jody,80400.519199', 'Kendall,79210.873961']\n"
     ]
    }
   ],
   "source": [
    "f = open ('unisex_names.csv','r')\n",
    "names = f.read()\n",
    "names_list = names.split('\\n')\n",
    "print(names_list[0:10])"
   ]
  },
  {
   "cell_type": "markdown",
   "id": "c09e56fd",
   "metadata": {},
   "source": [
    "## Convertir notre liste en liste de listes"
   ]
  },
  {
   "cell_type": "code",
   "execution_count": 6,
   "id": "58eb54d5",
   "metadata": {},
   "outputs": [],
   "source": [
    "# créons une liste vide et ajoutons un for\n"
   ]
  },
  {
   "cell_type": "code",
   "execution_count": 16,
   "id": "9c0dd623",
   "metadata": {},
   "outputs": [
    {
     "name": "stdout",
     "output_type": "stream",
     "text": [
      "[['Casey', '176544.328149'], ['Riley', '154860.665173'], ['Jessie', '136381.830656'], ['Jackie', '132928.78874'], ['Avery', '121797.419516']]\n"
     ]
    }
   ],
   "source": [
    "names_data=[]\n",
    "for name in names_list:\n",
    "    name_split = name.split(',')\n",
    "    names_data.append(name_split)\n",
    "print(names_data[0:5])    "
   ]
  },
  {
   "cell_type": "markdown",
   "id": "b41220b3",
   "metadata": {},
   "source": [
    "## Convertir les nombres numériques"
   ]
  },
  {
   "cell_type": "code",
   "execution_count": 15,
   "id": "7b3d7060",
   "metadata": {},
   "outputs": [
    {
     "name": "stdout",
     "output_type": "stream",
     "text": [
      "[['Casey', 176544.328149], ['Riley', 154860.665173], ['Jessie', 136381.830656], ['Jackie', 132928.78874], ['Avery', 121797.419516]]\n"
     ]
    }
   ],
   "source": [
    "numerical_list = []\n",
    "for number in names_data:\n",
    "    name = number[0]\n",
    "    numerical = float(number[1])\n",
    "    new_list =[name,numerical]\n",
    "    numerical_list.append(new_list)\n",
    "print(numerical_list[0:5])    \n",
    "    "
   ]
  },
  {
   "cell_type": "markdown",
   "id": "de21dadc",
   "metadata": {},
   "source": [
    "## Filtrer la liste "
   ]
  },
  {
   "cell_type": "code",
   "execution_count": 19,
   "id": "17c1ee41",
   "metadata": {},
   "outputs": [
    {
     "name": "stdout",
     "output_type": "stream",
     "text": [
      "['Casey', 'Riley', 'Jessie', 'Jackie', 'Avery', 'Jaime', 'Peyton', 'Kerry', 'Jody', 'Kendall']\n"
     ]
    }
   ],
   "source": [
    "final_list = []\n",
    "for name in numerical_list:\n",
    "    prenom=name[0]\n",
    "    population=name[1]\n",
    "    if population >=1000:\n",
    "        \n",
    "        final_list.append(prenom)\n",
    "print(final_list[0:10])        \n",
    "    "
   ]
  },
  {
   "cell_type": "code",
   "execution_count": null,
   "id": "ed1059d9",
   "metadata": {},
   "outputs": [],
   "source": []
  }
 ],
 "metadata": {
  "kernelspec": {
   "display_name": "Python 3 (ipykernel)",
   "language": "python",
   "name": "python3"
  },
  "language_info": {
   "codemirror_mode": {
    "name": "ipython",
    "version": 3
   },
   "file_extension": ".py",
   "mimetype": "text/x-python",
   "name": "python",
   "nbconvert_exporter": "python",
   "pygments_lexer": "ipython3",
   "version": "3.9.13"
  }
 },
 "nbformat": 4,
 "nbformat_minor": 5
}
