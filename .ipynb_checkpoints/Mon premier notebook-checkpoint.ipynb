{
 "cells": [
  {
   "cell_type": "code",
   "execution_count": 1,
   "id": "ff824c3b",
   "metadata": {},
   "outputs": [
    {
     "name": "stdout",
     "output_type": "stream",
     "text": [
      "hello\n"
     ]
    }
   ],
   "source": [
    "print('hello')"
   ]
  },
  {
   "cell_type": "markdown",
   "id": "0d75b5fb",
   "metadata": {},
   "source": [
    "mama je t'aime\n",
    " "
   ]
  },
  {
   "cell_type": "markdown",
   "id": "b392df5a",
   "metadata": {},
   "source": [
    "Les variables"
   ]
  },
  {
   "cell_type": "markdown",
   "id": "e4d6f9c9",
   "metadata": {},
   "source": [
    "---"
   ]
  },
  {
   "cell_type": "code",
   "execution_count": 6,
   "id": "7f1de51b",
   "metadata": {},
   "outputs": [],
   "source": [
    "days = 365;"
   ]
  },
  {
   "cell_type": "code",
   "execution_count": 7,
   "id": "da500d09",
   "metadata": {},
   "outputs": [
    {
     "data": {
      "text/plain": [
       "365"
      ]
     },
     "execution_count": 7,
     "metadata": {},
     "output_type": "execute_result"
    }
   ],
   "source": [
    "days"
   ]
  },
  {
   "cell_type": "code",
   "execution_count": 8,
   "id": "8afb42fc",
   "metadata": {},
   "outputs": [],
   "source": [
    "spain = 92\n",
    "france = 76\n",
    "canada = 52\n"
   ]
  },
  {
   "cell_type": "code",
   "execution_count": 9,
   "id": "ecdcc85f",
   "metadata": {},
   "outputs": [
    {
     "name": "stdout",
     "output_type": "stream",
     "text": [
      "92\n"
     ]
    }
   ],
   "source": [
    "#print (affiche les variables)\n",
    "print(spain)"
   ]
  },
  {
   "cell_type": "code",
   "execution_count": 10,
   "id": "16fbe634",
   "metadata": {},
   "outputs": [
    {
     "name": "stdout",
     "output_type": "stream",
     "text": [
      "76\n"
     ]
    }
   ],
   "source": [
    "print(france)"
   ]
  },
  {
   "cell_type": "code",
   "execution_count": 11,
   "id": "56c86295",
   "metadata": {},
   "outputs": [
    {
     "name": "stdout",
     "output_type": "stream",
     "text": [
      "52\n"
     ]
    }
   ],
   "source": [
    "print(canada)"
   ]
  },
  {
   "cell_type": "markdown",
   "id": "daa4f78a",
   "metadata": {},
   "source": [
    "Les variables et types de données\n"
   ]
  },
  {
   "cell_type": "markdown",
   "id": "c0ced525",
   "metadata": {},
   "source": [
    "---"
   ]
  },
  {
   "cell_type": "code",
   "execution_count": 12,
   "id": "97a0e4ef",
   "metadata": {},
   "outputs": [],
   "source": [
    "# entier /integer "
   ]
  },
  {
   "cell_type": "code",
   "execution_count": 13,
   "id": "577796a2",
   "metadata": {},
   "outputs": [],
   "source": [
    "cameroun = 237"
   ]
  },
  {
   "cell_type": "code",
   "execution_count": null,
   "id": "c3e344d1",
   "metadata": {},
   "outputs": [],
   "source": [
    "#Numero a virgule ou float"
   ]
  },
  {
   "cell_type": "code",
   "execution_count": 14,
   "id": "09915f7d",
   "metadata": {},
   "outputs": [
    {
     "name": "stdout",
     "output_type": "stream",
     "text": [
      "<class 'int'>\n"
     ]
    }
   ],
   "source": [
    "cameroun_type = type(cameroun)\n",
    "print(cameroun_type)"
   ]
  },
  {
   "cell_type": "code",
   "execution_count": 15,
   "id": "8a4c1431",
   "metadata": {},
   "outputs": [
    {
     "name": "stdout",
     "output_type": "stream",
     "text": [
      "<class 'float'>\n"
     ]
    }
   ],
   "source": [
    "cameroun_exact = 237.5\n",
    "print ( type(cameroun_exact))\n"
   ]
  }
 ],
 "metadata": {
  "kernelspec": {
   "display_name": "Python 3 (ipykernel)",
   "language": "python",
   "name": "python3"
  },
  "language_info": {
   "codemirror_mode": {
    "name": "ipython",
    "version": 3
   },
   "file_extension": ".py",
   "mimetype": "text/x-python",
   "name": "python",
   "nbconvert_exporter": "python",
   "pygments_lexer": "ipython3",
   "version": "3.9.13"
  }
 },
 "nbformat": 4,
 "nbformat_minor": 5
}
