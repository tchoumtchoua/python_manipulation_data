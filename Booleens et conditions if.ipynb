{
 "cells": [
  {
   "cell_type": "markdown",
   "id": "a1dcefbb",
   "metadata": {},
   "source": [
    "## Booléens et conditions if"
   ]
  },
  {
   "cell_type": "markdown",
   "id": "4f3bf941",
   "metadata": {},
   "source": [
    "### Booléens et opérateurs"
   ]
  },
  {
   "cell_type": "code",
   "execution_count": 7,
   "id": "b87929df",
   "metadata": {},
   "outputs": [
    {
     "name": "stdout",
     "output_type": "stream",
     "text": [
      "['Ain', 'Aisne', 'Allier', 'Alpes-de-Haute-Provence', 'Alpes-Maritimes', 'Ardèche', 'Ardennes', 'Ariège', 'Aube', 'Aude', 'Aveyron', 'Bas-Rhin', 'Bouches-du-Rhône', 'Calvados', 'Cantal', 'Charente', 'Charente-Maritime', 'Cher', 'Corrèze', 'Corse-du-Sud', \"Côte-d'Or\", \"Côtes-d'Armor\", 'Creuse', 'Deux-Sèvres', 'Dordogne', 'Doubs', 'Drôme', 'Essonne', 'Eure', 'Eure-et-Loir', 'Finistère', 'Gard', 'Gers', 'Gironde', 'Guadeloupe', 'Guyane', 'Haute-Corse', 'Haute-Garonne', 'Haute-Loire', 'Haute-Marne', 'Hautes-Alpes', 'Haute-Saône', 'Haute-Savoie', 'Hautes-Pyrénées', 'Haute-Vienne', 'Haut-Rhin', 'Hauts-de-Seine', 'Hérault', 'Ille-et-Vilaine', 'Indre', 'Indre-et-Loire', 'Isère', 'Jura', 'La Réunion', 'Landes', 'Loire', 'Loire-Atlantique', 'Loiret', 'Loir-et-Cher', 'Lot', 'Lot-et-Garonne', 'Lozère', 'Maine-et-Loire', 'Manche', 'Marne', 'Martinique', 'Mayenne', 'Meurthe-et-Moselle', 'Meuse', 'Morbihan', 'Moselle', 'Nièvre', 'Nord', 'Oise', 'Orne', 'Paris', 'Pas-de-Calais', 'Puy-de-Dôme', 'Pyrénées-Atlantiques', 'Pyrénées-Orientales', 'Rhône', 'Saône-et-Loire', 'Sarthe', 'Savoie', 'Seine-et-Marne', 'Seine-Maritime', 'Seine-Saint-Denis', 'Somme', 'Tarn', 'Tarn-et-Garonne', 'Territoire de Belfort', 'Val-de-Marne', \"Val-d'Oise\", 'Var', 'Vaucluse', 'Vendée', 'Vienne', 'Vosges', 'Yonne', 'Yvelines']\n",
      "[643309, 554040, 353262, 166298, 1098785, 332051, 287775, 158076, 316098, 375065, 289901, 1131812, 2035475, 708407, 152400, 366787, 656046, 318590, 249684, 154100, 545001, 617413, 124948, 384655, 428651, 549155, 514104, 1286908, 616076, 445083, 935393, 752382, 197988, 1556663, 406706, 254845, 175499, 1344579, 234078, 186698, 145213, 246022, 806447, 236577, 384708, 775941, 1617484, 1127333, 1060051, 232802, 619004, 1271938, 270826, 541487, 414090, 774262, 1382766, 688098, 344121, 180016, 343198, 80423, 829156, 518322, 584297, 390252, 317716, 746687, 197763, 764338, 1065894, 221048, 2640622, 838646, 297109, 2243739, 1497668, 661248, 688451, 474842, 1833002, 574229, 583961, 440777, 1400477, 1284107, 1582139, 583641, 396341, 258696, 147647, 1377511, 1221946, 1055745, 566592, 681469, 444347, 386978, 352433, 1449398]\n"
     ]
    }
   ],
   "source": [
    "#\n",
    "f = open('departements_fr.csv','r')\n",
    "data = f.read()\n",
    "rows = data.split('\\n')\n",
    "name_departements= []\n",
    "nbr_habitants = []\n",
    "for row in rows:\n",
    "    values = row.split(',')\n",
    "    name_departements.append(values[0])\n",
    "    nbr_habitants.append(int(values[1]))\n",
    "    \n",
    "print(name_departements)\n",
    "print(nbr_habitants)\n",
    "\n",
    "    \n",
    "    "
   ]
  },
  {
   "cell_type": "markdown",
   "id": "004f0f37",
   "metadata": {},
   "source": [
    "### Trainning 1"
   ]
  },
  {
   "cell_type": "code",
   "execution_count": 8,
   "id": "6efc4983",
   "metadata": {},
   "outputs": [],
   "source": [
    "# utilisons les opérateurs booléens pour determiner des equivalences sur la variable name_departements \n"
   ]
  },
  {
   "cell_type": "code",
   "execution_count": 12,
   "id": "42751cf5",
   "metadata": {},
   "outputs": [
    {
     "name": "stdout",
     "output_type": "stream",
     "text": [
      "True\n",
      "False\n",
      "False\n"
     ]
    }
   ],
   "source": [
    "\n",
    "first_Ain = (name_departements[0]==\"Ain\")\n",
    "second_Ain = (name_departements[1]==\"Ain\")\n",
    "first_last = (name_departements[0]== name_departements[len(name_departements)-1])\n",
    "print(first_Ain)\n",
    "print(second_Ain)\n",
    "print(first_last)"
   ]
  },
  {
   "cell_type": "markdown",
   "id": "a9e62787",
   "metadata": {},
   "source": [
    "### Trainning 2"
   ]
  },
  {
   "cell_type": "code",
   "execution_count": 13,
   "id": "6c294d09",
   "metadata": {},
   "outputs": [],
   "source": [
    "# utilisons les operateurs booléens pour faire quelque comparaison sur la variable nbr_habitants"
   ]
  },
  {
   "cell_type": "code",
   "execution_count": 14,
   "id": "4f2a592b",
   "metadata": {},
   "outputs": [
    {
     "name": "stdout",
     "output_type": "stream",
     "text": [
      "True\n",
      "False\n",
      "False\n"
     ]
    }
   ],
   "source": [
    "first_500000 = (nbr_habitants[0] >500000)\n",
    "first_650000 = (nbr_habitants[0] >650000)\n",
    "first_last  = (nbr_habitants[0]>= nbr_habitants[len(nbr_habitants)-1])\n",
    "print(first_500000)\n",
    "print(first_650000)\n",
    "print(first_last)\n"
   ]
  },
  {
   "cell_type": "markdown",
   "id": "104c1ebf",
   "metadata": {},
   "source": [
    "### La condition IF"
   ]
  },
  {
   "cell_type": "code",
   "execution_count": 6,
   "id": "44d42e02",
   "metadata": {},
   "outputs": [
    {
     "name": "stdout",
     "output_type": "stream",
     "text": [
      "65\n"
     ]
    }
   ],
   "source": [
    "age = 65 \n",
    "if age >50:\n",
    "   print( age)"
   ]
  },
  {
   "cell_type": "code",
   "execution_count": 14,
   "id": "b3c3ef52",
   "metadata": {},
   "outputs": [
    {
     "name": "stdout",
     "output_type": "stream",
     "text": [
      "ce nombre est énorme !!\n"
     ]
    }
   ],
   "source": [
    "value = 1000\n",
    "if value >100:\n",
    "    if value >500:\n",
    "      print(\"ce nombre est énorme !!\")"
   ]
  },
  {
   "cell_type": "markdown",
   "id": "b105ef04",
   "metadata": {},
   "source": [
    "## Trainning 1"
   ]
  },
  {
   "cell_type": "code",
   "execution_count": 15,
   "id": "2d878bd7",
   "metadata": {},
   "outputs": [],
   "source": [
    "# determine si le sixième élément de la liste name_departements est egale a Ardèche"
   ]
  },
  {
   "cell_type": "code",
   "execution_count": 21,
   "id": "b9e24ddf",
   "metadata": {},
   "outputs": [
    {
     "name": "stdout",
     "output_type": "stream",
     "text": [
      "1\n"
     ]
    }
   ],
   "source": [
    "f = open('departements_fr.csv','r')\n",
    "data = f.read()\n",
    "rows = data.split('\\n')\n",
    "name_departements= []\n",
    "nbr_habitants = []\n",
    "for row in rows:\n",
    "    values = row.split(',')\n",
    "    name_departements.append(values[0])\n",
    "    nbr_habitants.append(int(values[1]))\n",
    "result =0\n",
    "if name_departements[5]==\"Ardèche\":\n",
    "    result = 1\n",
    "print(result)    "
   ]
  },
  {
   "cell_type": "markdown",
   "id": "d6b34e40",
   "metadata": {},
   "source": [
    "### Trainning 2"
   ]
  },
  {
   "cell_type": "code",
   "execution_count": 22,
   "id": "e9c5fbde",
   "metadata": {},
   "outputs": [],
   "source": [
    "# determinons si le premier element de nbr_habitants est superieur à 600000 et que le second est superieur à 300000\n"
   ]
  },
  {
   "cell_type": "code",
   "execution_count": 24,
   "id": "65d96655",
   "metadata": {},
   "outputs": [
    {
     "name": "stdout",
     "output_type": "stream",
     "text": [
      "false\n"
     ]
    }
   ],
   "source": [
    "both_conditions = \"false\"\n",
    "if nbr_habitants[0]>600000:\n",
    "    if nbr_habitants[1]>3000000:\n",
    "        both_conditions = \"true\" \n",
    "print(both_conditions)        "
   ]
  },
  {
   "cell_type": "code",
   "execution_count": null,
   "id": "86cbce00",
   "metadata": {},
   "outputs": [],
   "source": []
  }
 ],
 "metadata": {
  "kernelspec": {
   "display_name": "Python 3 (ipykernel)",
   "language": "python",
   "name": "python3"
  },
  "language_info": {
   "codemirror_mode": {
    "name": "ipython",
    "version": 3
   },
   "file_extension": ".py",
   "mimetype": "text/x-python",
   "name": "python",
   "nbconvert_exporter": "python",
   "pygments_lexer": "ipython3",
   "version": "3.9.13"
  }
 },
 "nbformat": 4,
 "nbformat_minor": 5
}
