{
 "cells": [
  {
   "cell_type": "code",
   "execution_count": 1,
   "id": "3c886dda",
   "metadata": {},
   "outputs": [
    {
     "name": "stdout",
     "output_type": "stream",
     "text": [
      "hello\n"
     ]
    }
   ],
   "source": [
    "print('hello')"
   ]
  },
  {
   "cell_type": "markdown",
   "id": "9d312ba1",
   "metadata": {},
   "source": [
    "mama je t'aime\n",
    " "
   ]
  },
  {
   "cell_type": "markdown",
   "id": "949b7a11",
   "metadata": {},
   "source": [
    "Les variables"
   ]
  },
  {
   "cell_type": "markdown",
   "id": "b731953b",
   "metadata": {},
   "source": [
    "---"
   ]
  },
  {
   "cell_type": "code",
   "execution_count": 6,
   "id": "7c36ab64",
   "metadata": {},
   "outputs": [],
   "source": [
    "days = 365;"
   ]
  },
  {
   "cell_type": "code",
   "execution_count": 7,
   "id": "f3a2d9b6",
   "metadata": {},
   "outputs": [
    {
     "data": {
      "text/plain": [
       "365"
      ]
     },
     "execution_count": 7,
     "metadata": {},
     "output_type": "execute_result"
    }
   ],
   "source": [
    "days"
   ]
  },
  {
   "cell_type": "code",
   "execution_count": 8,
   "id": "34fc81c8",
   "metadata": {},
   "outputs": [],
   "source": [
    "spain = 92\n",
    "france = 76\n",
    "canada = 52\n"
   ]
  },
  {
   "cell_type": "code",
   "execution_count": 9,
   "id": "3439d464",
   "metadata": {},
   "outputs": [
    {
     "name": "stdout",
     "output_type": "stream",
     "text": [
      "92\n"
     ]
    }
   ],
   "source": [
    "#print (affiche les variables)\n",
    "print(spain)"
   ]
  },
  {
   "cell_type": "code",
   "execution_count": 10,
   "id": "c443fa91",
   "metadata": {},
   "outputs": [
    {
     "name": "stdout",
     "output_type": "stream",
     "text": [
      "76\n"
     ]
    }
   ],
   "source": [
    "print(france)"
   ]
  },
  {
   "cell_type": "code",
   "execution_count": 11,
   "id": "c3362ca1",
   "metadata": {},
   "outputs": [
    {
     "name": "stdout",
     "output_type": "stream",
     "text": [
      "52\n"
     ]
    }
   ],
   "source": [
    "print(canada)"
   ]
  },
  {
   "cell_type": "markdown",
   "id": "94ff9bb1",
   "metadata": {},
   "source": [
    "Les variables et types de données\n"
   ]
  },
  {
   "cell_type": "markdown",
   "id": "d9d53a42",
   "metadata": {},
   "source": [
    "---"
   ]
  },
  {
   "cell_type": "code",
   "execution_count": 12,
   "id": "4584c51f",
   "metadata": {},
   "outputs": [],
   "source": [
    "# entier /integer "
   ]
  },
  {
   "cell_type": "code",
   "execution_count": 13,
   "id": "5a86af2a",
   "metadata": {},
   "outputs": [],
   "source": [
    "cameroun = 237"
   ]
  },
  {
   "cell_type": "code",
   "execution_count": null,
   "id": "ce4ef9bc",
   "metadata": {},
   "outputs": [],
   "source": [
    "#Numero a virgule ou float"
   ]
  },
  {
   "cell_type": "code",
   "execution_count": 14,
   "id": "c4e4fed6",
   "metadata": {},
   "outputs": [
    {
     "name": "stdout",
     "output_type": "stream",
     "text": [
      "<class 'int'>\n"
     ]
    }
   ],
   "source": [
    "cameroun_type = type(cameroun)\n",
    "print(cameroun_type)"
   ]
  },
  {
   "cell_type": "code",
   "execution_count": 16,
   "id": "6bb6cc63",
   "metadata": {},
   "outputs": [
    {
     "name": "stdout",
     "output_type": "stream",
     "text": [
      "<class 'float'>\n"
     ]
    }
   ],
   "source": [
    "cameroun_exact = 237.5\n",
    "print ( type(cameroun_exact))\n"
   ]
  },
  {
   "cell_type": "code",
   "execution_count": 17,
   "id": "277e620f",
   "metadata": {},
   "outputs": [],
   "source": [
    "# chaine de caractère ou String "
   ]
  },
  {
   "cell_type": "code",
   "execution_count": 18,
   "id": "7f2928b7",
   "metadata": {},
   "outputs": [],
   "source": [
    "hello ='hello'\n",
    "hello_word =\"hello word\""
   ]
  },
  {
   "cell_type": "code",
   "execution_count": 19,
   "id": "13c7a63c",
   "metadata": {},
   "outputs": [
    {
     "name": "stdout",
     "output_type": "stream",
     "text": [
      "hello\n",
      "<class 'str'>\n"
     ]
    }
   ],
   "source": [
    "print(hello)\n",
    "print(type(hello))"
   ]
  },
  {
   "cell_type": "code",
   "execution_count": 20,
   "id": "801485c1",
   "metadata": {},
   "outputs": [],
   "source": [
    "# type boolean"
   ]
  },
  {
   "cell_type": "code",
   "execution_count": 23,
   "id": "20070273",
   "metadata": {},
   "outputs": [],
   "source": [
    "true_type = True\n",
    "false_type= False"
   ]
  },
  {
   "cell_type": "code",
   "execution_count": 24,
   "id": "8b055083",
   "metadata": {},
   "outputs": [
    {
     "name": "stdout",
     "output_type": "stream",
     "text": [
      "True\n",
      "<class 'bool'>\n"
     ]
    }
   ],
   "source": [
    "print(true_type)\n",
    "print(type(true_type))"
   ]
  },
  {
   "cell_type": "code",
   "execution_count": 25,
   "id": "65e2c7ec",
   "metadata": {},
   "outputs": [],
   "source": [
    "# conversion des types de données \n",
    "# str() pour convertir en chaine de caractères , int () pour convertir en entier"
   ]
  },
  {
   "cell_type": "code",
   "execution_count": 26,
   "id": "924ff99a",
   "metadata": {},
   "outputs": [
    {
     "name": "stdout",
     "output_type": "stream",
     "text": [
      "2\n",
      "<class 'str'>\n"
     ]
    }
   ],
   "source": [
    "int_to_str = str(2)\n",
    "print(int_to_str)\n",
    "print(type(int_to_str))"
   ]
  },
  {
   "cell_type": "code",
   "execution_count": 27,
   "id": "b2bc5dcc",
   "metadata": {},
   "outputs": [
    {
     "name": "stdout",
     "output_type": "stream",
     "text": [
      "3\n",
      "<class 'int'>\n"
     ]
    }
   ],
   "source": [
    "str_to_int = int(\"3\")\n",
    "print(str_to_int)\n",
    "print(type(str_to_int))"
   ]
  },
  {
   "cell_type": "code",
   "execution_count": 28,
   "id": "11092ed9",
   "metadata": {},
   "outputs": [],
   "source": [
    "#addition "
   ]
  },
  {
   "cell_type": "code",
   "execution_count": 29,
   "id": "bcd26f89",
   "metadata": {},
   "outputs": [
    {
     "name": "stdout",
     "output_type": "stream",
     "text": [
      "55\n"
     ]
    }
   ],
   "source": [
    "somme = 30 + 25\n",
    "print (somme)"
   ]
  },
  {
   "cell_type": "code",
   "execution_count": 31,
   "id": "8657fb34",
   "metadata": {},
   "outputs": [
    {
     "name": "stdout",
     "output_type": "stream",
     "text": [
      "35\n"
     ]
    }
   ],
   "source": [
    "a = 30 \n",
    "b=5\n",
    "sum_a_b = a+b\n",
    "print(sum_a_b)"
   ]
  },
  {
   "cell_type": "code",
   "execution_count": null,
   "id": "79c70bc1",
   "metadata": {},
   "outputs": [],
   "source": [
    "#puissance ** l'exposant "
   ]
  },
  {
   "cell_type": "code",
   "execution_count": 33,
   "id": "9e58ae9b",
   "metadata": {},
   "outputs": [
    {
     "name": "stdout",
     "output_type": "stream",
     "text": [
      "125\n"
     ]
    }
   ],
   "source": [
    "square =  b** 3\n",
    "print (square)"
   ]
  },
  {
   "cell_type": "code",
   "execution_count": 34,
   "id": "c7d3124d",
   "metadata": {},
   "outputs": [],
   "source": [
    "# multiplication\n"
   ]
  },
  {
   "cell_type": "code",
   "execution_count": 35,
   "id": "6703145f",
   "metadata": {},
   "outputs": [
    {
     "name": "stdout",
     "output_type": "stream",
     "text": [
      "150\n"
     ]
    }
   ],
   "source": [
    "multipli= a*b\n",
    "print(multipli)"
   ]
  },
  {
   "cell_type": "code",
   "execution_count": 36,
   "id": "ac961abe",
   "metadata": {},
   "outputs": [
    {
     "name": "stdout",
     "output_type": "stream",
     "text": [
      "1.6666666666666667\n"
     ]
    }
   ],
   "source": [
    "divide = 5/3\n",
    "print(divide)"
   ]
  },
  {
   "cell_type": "markdown",
   "id": "353c0821",
   "metadata": {},
   "source": [
    "Creation d'une liste "
   ]
  },
  {
   "cell_type": "code",
   "execution_count": 37,
   "id": "65cb33c0",
   "metadata": {},
   "outputs": [],
   "source": [
    "months =[]"
   ]
  },
  {
   "cell_type": "code",
   "execution_count": 39,
   "id": "807ab73b",
   "metadata": {},
   "outputs": [
    {
     "name": "stdout",
     "output_type": "stream",
     "text": [
      "[1, 'janvier', 2, 'fevrier', 1, 'janvier', 2, 'fevrier']\n",
      "<class 'list'>\n"
     ]
    }
   ],
   "source": [
    "months.append(1)\n",
    "months.append('janvier')\n",
    "months.append(2)\n",
    "months.append('fevrier')\n",
    "print(months)\n",
    "print(type(months))"
   ]
  },
  {
   "cell_type": "code",
   "execution_count": 40,
   "id": "25a88e1a",
   "metadata": {},
   "outputs": [
    {
     "name": "stdout",
     "output_type": "stream",
     "text": [
      "['france', 128, 'spain', 234, 'USA', 345]\n"
     ]
    }
   ],
   "source": [
    "temperatures =[ 'france', 128 , 'spain', 234, ]\n",
    "temperatures.append('USA')\n",
    "temperatures.append(345)\n",
    "print(temperatures)\n"
   ]
  },
  {
   "cell_type": "code",
   "execution_count": 47,
   "id": "b4a77444",
   "metadata": {},
   "outputs": [
    {
     "name": "stdout",
     "output_type": "stream",
     "text": [
      "France\n",
      "125.5\n"
     ]
    }
   ],
   "source": [
    "countries =[]\n",
    "temperatures = []\n",
    "countries.append('France')\n",
    "countries.append('spain')\n",
    "countries.append('canada')\n",
    "temperatures.append(125.5)\n",
    "temperatures.append(124.0)\n",
    "temperatures.append(105.2)\n",
    "France = countries[0]\n",
    "France_temperature = temperatures[0]\n",
    "print(France)\n",
    "print(France_temperature)"
   ]
  },
  {
   "cell_type": "markdown",
   "id": "5bca59c6",
   "metadata": {},
   "source": [
    "Training"
   ]
  },
  {
   "cell_type": "code",
   "execution_count": 1,
   "id": "28229379",
   "metadata": {},
   "outputs": [],
   "source": [
    "# len()permet de recuperer le nombre d'elements d'une liste length\n"
   ]
  },
  {
   "cell_type": "code",
   "execution_count": 4,
   "id": "1427ff10",
   "metadata": {},
   "outputs": [
    {
     "name": "stdout",
     "output_type": "stream",
     "text": [
      "4\n"
     ]
    }
   ],
   "source": [
    "temperatures =[ 'france', 128 , 'spain', 234, ]\n",
    "print(len(temperatures))"
   ]
  },
  {
   "cell_type": "code",
   "execution_count": 5,
   "id": "42470d37",
   "metadata": {},
   "outputs": [
    {
     "name": "stdout",
     "output_type": "stream",
     "text": [
      "['France', 'spain', 'USA']\n",
      "[131.1, 105.2, 112.5, 128.3]\n"
     ]
    }
   ],
   "source": [
    "countries = ['France','spain','USA','Canada','Australia','Argentina']\n",
    "temperatures=[125.5 , 124.0, 131.1, 105.2,112.5,128.3]\n",
    "countries_slice= countries[0:3]\n",
    "temperatures_slice = temperatures[len(temperatures)-4:len(temperatures)]\n",
    "print(countries_slice)\n",
    "print(temperatures_slice)"
   ]
  },
  {
   "cell_type": "markdown",
   "id": "deb936ca",
   "metadata": {},
   "source": [
    "### ouverture d'un fichier"
   ]
  },
  {
   "cell_type": "code",
   "execution_count": 6,
   "id": "5b8470f9",
   "metadata": {},
   "outputs": [],
   "source": [
    "#open(nom du fichier , type de lecture)"
   ]
  },
  {
   "cell_type": "code",
   "execution_count": 8,
   "id": "05efa991",
   "metadata": {},
   "outputs": [
    {
     "data": {
      "text/plain": [
       "<_io.TextIOWrapper name='python.txt' mode='r' encoding='cp1252'>"
      ]
     },
     "execution_count": 8,
     "metadata": {},
     "output_type": "execute_result"
    }
   ],
   "source": [
    "open(\"python.txt\",\"r\")"
   ]
  },
  {
   "cell_type": "code",
   "execution_count": 12,
   "id": "2680b427",
   "metadata": {},
   "outputs": [],
   "source": [
    "f= open(\"python.txt\",\"r\")"
   ]
  },
  {
   "cell_type": "markdown",
   "id": "31c1d880",
   "metadata": {},
   "source": [
    "### Lecture de fichier "
   ]
  },
  {
   "cell_type": "code",
   "execution_count": 13,
   "id": "af85161a",
   "metadata": {},
   "outputs": [],
   "source": [
    "#read()"
   ]
  },
  {
   "cell_type": "code",
   "execution_count": 14,
   "id": "43d4e1f9",
   "metadata": {},
   "outputs": [
    {
     "name": "stdout",
     "output_type": "stream",
     "text": [
      "Je lis mon premier fichier !!!\n"
     ]
    }
   ],
   "source": [
    "g= f.read()\n",
    "print(g)"
   ]
  },
  {
   "cell_type": "code",
   "execution_count": 16,
   "id": "7ab51035",
   "metadata": {},
   "outputs": [
    {
     "name": "stdout",
     "output_type": "stream",
     "text": [
      "Ain,643309\n",
      "Aisne,554040\n",
      "Allier,353262\n",
      "Alpes-de-Haute-Provence,166298\n",
      "Alpes-Maritimes,1098785\n",
      "Ardèche,332051\n",
      "Ardennes,287775\n",
      "Ariège,158076\n",
      "Aube,316098\n",
      "Aude,375065\n",
      "Aveyron,289901\n",
      "Bas-Rhin,1131812\n",
      "Bouches-du-Rhône,2035475\n",
      "Calvados,708407\n",
      "Cantal,152400\n",
      "Charente,366787\n",
      "Charente-Maritime,656046\n",
      "Cher,318590\n",
      "Corrèze,249684\n",
      "Corse-du-Sud,154100\n",
      "Côte-d'Or,545001\n",
      "Côtes-d'Armor,617413\n",
      "Creuse,124948\n",
      "Deux-Sèvres,384655\n",
      "Dordogne,428651\n",
      "Doubs,549155\n",
      "Drôme,514104\n",
      "Essonne,1286908\n",
      "Eure,616076\n",
      "Eure-et-Loir,445083\n",
      "Finistère,935393\n",
      "Gard,752382\n",
      "Gers,197988\n",
      "Gironde,1556663\n",
      "Guadeloupe,406706\n",
      "Guyane,254845\n",
      "Haute-Corse,175499\n",
      "Haute-Garonne,1344579\n",
      "Haute-Loire,234078\n",
      "Haute-Marne,186698\n",
      "Hautes-Alpes,145213\n",
      "Haute-Saône,246022\n",
      "Haute-Savoie,806447\n",
      "Hautes-Pyrénées,236577\n",
      "Haute-Vienne,384708\n",
      "Haut-Rhin,775941\n",
      "Hauts-de-Seine,1617484\n",
      "Hérault,1127333\n",
      "Ille-et-Vilaine,1060051\n",
      "Indre,232802\n",
      "Indre-et-Loire,619004\n",
      "Isère,1271938\n",
      "Jura,270826\n",
      "La Réunion,541487\n",
      "Landes,414090\n",
      "Loire,774262\n",
      "Loire-Atlantique,1382766\n",
      "Loiret,688098\n",
      "Loir-et-Cher,344121\n",
      "Lot,180016\n",
      "Lot-et-Garonne,343198\n",
      "Lozère,80423\n",
      "Maine-et-Loire,829156\n",
      "Manche,518322\n",
      "Marne,584297\n",
      "Martinique,390252\n",
      "Mayenne,317716\n",
      "Meurthe-et-Moselle,746687\n",
      "Meuse,197763\n",
      "Morbihan,764338\n",
      "Moselle,1065894\n",
      "Nièvre,221048\n",
      "Nord,2640622\n",
      "Oise,838646\n",
      "Orne,297109\n",
      "Paris,2243739\n",
      "Pas-de-Calais,1497668\n",
      "Puy-de-Dôme,661248\n",
      "Pyrénées-Atlantiques,688451\n",
      "Pyrénées-Orientales,474842\n",
      "Rhône,1833002\n",
      "Saône-et-Loire,574229\n",
      "Sarthe,583961\n",
      "Savoie,440777\n",
      "Seine-et-Marne,1400477\n",
      "Seine-Maritime,1284107\n",
      "Seine-Saint-Denis,1582139\n",
      "Somme,583641\n",
      "Tarn,396341\n",
      "Tarn-et-Garonne,258696\n",
      "Territoire de Belfort,147647\n",
      "Val-de-Marne,1377511\n",
      "Val-d'Oise,1221946\n",
      "Var,1055745\n",
      "Vaucluse,566592\n",
      "Vendée,681469\n",
      "Vienne,444347\n",
      "Vosges,386978\n",
      "Yonne,352433\n",
      "Yvelines,1449398\n"
     ]
    }
   ],
   "source": [
    "data0 = open(\"departements_fr.csv\",\"r\")\n",
    "data = data0.read()\n",
    "print(data)"
   ]
  },
  {
   "cell_type": "code",
   "execution_count": 17,
   "id": "4f462316",
   "metadata": {},
   "outputs": [
    {
     "data": {
      "text/plain": [
       "str"
      ]
     },
     "execution_count": 17,
     "metadata": {},
     "output_type": "execute_result"
    }
   ],
   "source": [
    "type(data)"
   ]
  },
  {
   "cell_type": "markdown",
   "id": "8c74e912",
   "metadata": {},
   "source": [
    "## Trainning"
   ]
  },
  {
   "cell_type": "code",
   "execution_count": 18,
   "id": "40a4b67a",
   "metadata": {},
   "outputs": [],
   "source": [
    "#split permet de changer des chaines de caracteres en listes"
   ]
  },
  {
   "cell_type": "code",
   "execution_count": 19,
   "id": "01d7f9de",
   "metadata": {},
   "outputs": [
    {
     "name": "stdout",
     "output_type": "stream",
     "text": [
      "['Ain,643309', 'Aisne,554040', 'Allier,353262', 'Alpes-de-Haute-Provence,166298', 'Alpes-Maritimes,1098785']\n"
     ]
    }
   ],
   "source": [
    "rows= data.split(\"\\n\")\n",
    "print(rows[0:5])\n",
    "\n"
   ]
  },
  {
   "cell_type": "markdown",
   "id": "880a743c",
   "metadata": {},
   "source": [
    "### Les boucles/ loop"
   ]
  },
  {
   "cell_type": "code",
   "execution_count": 9,
   "id": "0588fdae",
   "metadata": {},
   "outputs": [
    {
     "name": "stdout",
     "output_type": "stream",
     "text": [
      "paris\n",
      "paris\n",
      "madrid\n",
      "madrid\n",
      "rome\n",
      "rome\n"
     ]
    }
   ],
   "source": [
    "cities = [\"paris\",\"madrid\",\"rome\"]\n",
    "for city in cities:\n",
    " print(city)\n",
    " print(city)"
   ]
  },
  {
   "cell_type": "markdown",
   "id": "a23dc1e2",
   "metadata": {},
   "source": [
    "### Tranning sur la boucle for\n"
   ]
  },
  {
   "cell_type": "code",
   "execution_count": 17,
   "id": "9955987f",
   "metadata": {},
   "outputs": [
    {
     "name": "stdout",
     "output_type": "stream",
     "text": [
      "Ain,643309\n",
      "Aisne,554040\n",
      "Allier,353262\n",
      "Alpes-de-Haute-Provence,166298\n",
      "Alpes-Maritimes,1098785\n",
      "Ardèche,332051\n",
      "Ardennes,287775\n",
      "Ariège,158076\n",
      "Aube,316098\n",
      "Aude,375065\n"
     ]
    }
   ],
   "source": [
    "data0 = open(\"departements_fr.csv\",\"r\")\n",
    "data = data0.read()\n",
    "rows= data.split(\"\\n\")\n",
    "ten_rows =rows[0:10]\n",
    "for row in ten_rows:\n",
    "    print(row)"
   ]
  },
  {
   "cell_type": "markdown",
   "id": "14fc1926",
   "metadata": {},
   "source": [
    "## Les listes des listes "
   ]
  },
  {
   "cell_type": "code",
   "execution_count": 19,
   "id": "0c743d5f",
   "metadata": {},
   "outputs": [
    {
     "name": "stdout",
     "output_type": "stream",
     "text": [
      "[['paris', '45'], ['madrid', '75'], ['rome', '125']]\n"
     ]
    }
   ],
   "source": [
    "cities_number = [\"paris,45\", \"madrid,75\", \"rome,125\"]\n",
    "final_list = []\n",
    "for row in cities_number:\n",
    "    split_row = row.split(',')\n",
    "    final_list.append(split_row)\n",
    "print(final_list)"
   ]
  },
  {
   "cell_type": "code",
   "execution_count": 20,
   "id": "ed697f4b",
   "metadata": {},
   "outputs": [
    {
     "name": "stdout",
     "output_type": "stream",
     "text": [
      "['madrid', '75']\n"
     ]
    }
   ],
   "source": [
    "print(final_list[1])"
   ]
  },
  {
   "cell_type": "markdown",
   "id": "8027df56",
   "metadata": {},
   "source": [
    "### Trainning sur les listes des listes"
   ]
  },
  {
   "cell_type": "code",
   "execution_count": 24,
   "id": "b89869a1",
   "metadata": {},
   "outputs": [
    {
     "name": "stdout",
     "output_type": "stream",
     "text": [
      "[['Ain', '643309'], ['Aisne', '554040'], ['Allier', '353262'], ['Alpes-de-Haute-Provence', '166298'], ['Alpes-Maritimes', '1098785']]\n"
     ]
    }
   ],
   "source": [
    "final_data = []\n",
    "for row in rows:\n",
    "    split_row = row.split(',')\n",
    "    final_data.append(split_row)\n",
    "print(final_data[0:5])    \n",
    "    \n",
    "    \n",
    "    "
   ]
  },
  {
   "cell_type": "markdown",
   "id": "bbf8c7b8",
   "metadata": {},
   "source": [
    "### Recuperation et affichage des éléments d'une liste de listes"
   ]
  },
  {
   "cell_type": "code",
   "execution_count": 26,
   "id": "24ac04cd",
   "metadata": {},
   "outputs": [
    {
     "name": "stdout",
     "output_type": "stream",
     "text": [
      "Ain\n"
     ]
    }
   ],
   "source": [
    "first_final_data_value = final_data[0][0] # 1ere liste 1er element\n",
    "print(first_final_data_value)"
   ]
  },
  {
   "cell_type": "markdown",
   "id": "61277f29",
   "metadata": {},
   "source": [
    "### Boucles à travers une liste de listes"
   ]
  },
  {
   "cell_type": "code",
   "execution_count": 28,
   "id": "74bb35d1",
   "metadata": {},
   "outputs": [
    {
     "name": "stdout",
     "output_type": "stream",
     "text": [
      "['Ain', 'Aisne', 'Allier', 'Alpes-de-Haute-Provence', 'Alpes-Maritimes']\n"
     ]
    }
   ],
   "source": [
    "five_elements = final_data[0:5]\n",
    "departements_list = []\n",
    "# recuperation des elements d'une facon manuel\n",
    "departements_list.append(final_data[0][0])\n",
    "departements_list.append(final_data[1][0])\n",
    "departements_list.append(final_data[2][0])\n",
    "departements_list.append(final_data[3][0])\n",
    "departements_list.append(final_data[4][0])\n",
    "print(departements_list)"
   ]
  },
  {
   "cell_type": "code",
   "execution_count": 32,
   "id": "2b960698",
   "metadata": {},
   "outputs": [
    {
     "name": "stdout",
     "output_type": "stream",
     "text": [
      "['643309', '554040', '353262', '166298', '1098785']\n"
     ]
    }
   ],
   "source": [
    "# recuperons la population de chaque département avec des boucles\n",
    "populations_list = []\n",
    "for population_list in five_elements:\n",
    "        departement_population = population_list[1]\n",
    "        populations_list.append(departement_population)\n",
    "print(populations_list)\n",
    "        \n",
    "        "
   ]
  },
  {
   "cell_type": "markdown",
   "id": "41f6812e",
   "metadata": {},
   "source": [
    "### Trainning sur la recuperation d'une liste de listes"
   ]
  },
  {
   "cell_type": "code",
   "execution_count": 38,
   "id": "2368d1f2",
   "metadata": {},
   "outputs": [
    {
     "name": "stdout",
     "output_type": "stream",
     "text": [
      "['Ain', 'Aisne', 'Allier', 'Alpes-de-Haute-Provence', 'Alpes-Maritimes', 'Ardèche', 'Ardennes', 'Ariège', 'Aube', 'Aude', 'Aveyron', 'Bas-Rhin', 'Bouches-du-Rhône', 'Calvados', 'Cantal', 'Charente', 'Charente-Maritime', 'Cher', 'Corrèze', 'Corse-du-Sud', \"Côte-d'Or\", \"Côtes-d'Armor\", 'Creuse', 'Deux-Sèvres', 'Dordogne', 'Doubs', 'Drôme', 'Essonne', 'Eure', 'Eure-et-Loir', 'Finistère', 'Gard', 'Gers', 'Gironde', 'Guadeloupe', 'Guyane', 'Haute-Corse', 'Haute-Garonne', 'Haute-Loire', 'Haute-Marne', 'Hautes-Alpes', 'Haute-Saône', 'Haute-Savoie', 'Hautes-Pyrénées', 'Haute-Vienne', 'Haut-Rhin', 'Hauts-de-Seine', 'Hérault', 'Ille-et-Vilaine', 'Indre', 'Indre-et-Loire', 'Isère', 'Jura', 'La Réunion', 'Landes', 'Loire', 'Loire-Atlantique', 'Loiret', 'Loir-et-Cher', 'Lot', 'Lot-et-Garonne', 'Lozère', 'Maine-et-Loire', 'Manche', 'Marne', 'Martinique', 'Mayenne', 'Meurthe-et-Moselle', 'Meuse', 'Morbihan', 'Moselle', 'Nièvre', 'Nord', 'Oise', 'Orne', 'Paris', 'Pas-de-Calais', 'Puy-de-Dôme', 'Pyrénées-Atlantiques', 'Pyrénées-Orientales', 'Rhône', 'Saône-et-Loire', 'Sarthe', 'Savoie', 'Seine-et-Marne', 'Seine-Maritime', 'Seine-Saint-Denis', 'Somme', 'Tarn', 'Tarn-et-Garonne', 'Territoire de Belfort', 'Val-de-Marne', \"Val-d'Oise\", 'Var', 'Vaucluse', 'Vendée', 'Vienne', 'Vosges', 'Yonne', 'Yvelines']\n"
     ]
    }
   ],
   "source": [
    "# créons une liste et recuperons tous les noms des departements francais et mettons cela a l'intérieur \n",
    "departement_list=[]\n",
    "for row in final_data:\n",
    "    name_departement = row[0]\n",
    "    departement_list.append(name_departement)\n",
    "print(departement_list)    "
   ]
  },
  {
   "cell_type": "markdown",
   "id": "e1f5f4eb",
   "metadata": {},
   "source": []
  },
  {
   "cell_type": "code",
   "execution_count": null,
   "id": "b772c966",
   "metadata": {},
   "outputs": [],
   "source": []
  }
 ],
 "metadata": {
  "kernelspec": {
   "display_name": "Python 3 (ipykernel)",
   "language": "python",
   "name": "python3"
  },
  "language_info": {
   "codemirror_mode": {
    "name": "ipython",
    "version": 3
   },
   "file_extension": ".py",
   "mimetype": "text/x-python",
   "name": "python",
   "nbconvert_exporter": "python",
   "pygments_lexer": "ipython3",
   "version": "3.9.13"
  }
 },
 "nbformat": 4,
 "nbformat_minor": 5
}
